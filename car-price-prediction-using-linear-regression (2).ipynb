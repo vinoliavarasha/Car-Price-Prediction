{
 "cells": [
  {
   "cell_type": "markdown",
   "id": "28245140",
   "metadata": {
    "id": "mxNVgljxihBH",
    "papermill": {
     "duration": 0.030121,
     "end_time": "2021-10-24T05:06:38.539619",
     "exception": false,
     "start_time": "2021-10-24T05:06:38.509498",
     "status": "completed"
    },
    "tags": []
   },
   "source": [
    "Aim: To predict the price of the car, using various features provided in the dataset"
   ]
  },
  {
   "cell_type": "code",
   "execution_count": 1,
   "id": "3c172b0a",
   "metadata": {
    "execution": {
     "iopub.execute_input": "2021-10-24T05:06:38.609500Z",
     "iopub.status.busy": "2021-10-24T05:06:38.608593Z",
     "iopub.status.idle": "2021-10-24T05:06:39.928129Z",
     "shell.execute_reply": "2021-10-24T05:06:39.928680Z",
     "shell.execute_reply.started": "2021-10-24T05:05:50.865423Z"
    },
    "id": "pNrkfaZWtJJ7",
    "papermill": {
     "duration": 1.358882,
     "end_time": "2021-10-24T05:06:39.928991",
     "exception": false,
     "start_time": "2021-10-24T05:06:38.570109",
     "status": "completed"
    },
    "tags": []
   },
   "outputs": [],
   "source": [
    "import pandas as pd\n",
    "import matplotlib.pyplot as plt\n",
    "import seaborn as sns\n",
    "import numpy as np\n",
    "from sklearn.model_selection import train_test_split\n",
    "from sklearn.linear_model import LinearRegression\n",
    "from sklearn.linear_model import Lasso\n",
    "from sklearn import metrics"
   ]
  },
  {
   "cell_type": "code",
   "execution_count": 2,
   "id": "481d372d",
   "metadata": {},
   "outputs": [],
   "source": [
    "pd.set_option('display.max_columns' , None)\n",
    "pd.options.display.max_rows=100"
   ]
  },
  {
   "cell_type": "markdown",
   "id": "913776ce",
   "metadata": {
    "id": "VrDd3I050OqH",
    "papermill": {
     "duration": 0.030082,
     "end_time": "2021-10-24T05:06:39.989481",
     "exception": false,
     "start_time": "2021-10-24T05:06:39.959399",
     "status": "completed"
    },
    "tags": []
   },
   "source": [
    "**EDA**\n",
    "\n",
    "Car Dataset: https://www.kaggle.com/nehalbirla/vehicle-dataset-from-cardekho?select=car+data.csv"
   ]
  },
  {
   "cell_type": "code",
   "execution_count": 4,
   "id": "d09dde5d",
   "metadata": {
    "execution": {
     "iopub.execute_input": "2021-10-24T05:06:40.054403Z",
     "iopub.status.busy": "2021-10-24T05:06:40.053458Z",
     "iopub.status.idle": "2021-10-24T05:06:40.073791Z",
     "shell.execute_reply": "2021-10-24T05:06:40.074360Z",
     "shell.execute_reply.started": "2021-10-24T05:05:52.207981Z"
    },
    "id": "k0lBJoM90JHf",
    "papermill": {
     "duration": 0.054852,
     "end_time": "2021-10-24T05:06:40.074594",
     "exception": false,
     "start_time": "2021-10-24T05:06:40.019742",
     "status": "completed"
    },
    "tags": []
   },
   "outputs": [],
   "source": [
    "car_dataset = pd.read_csv('D:/BATCH_25/project_batch25/ppt_linear_reg/car_dataset/car data.csv') # loading the data from csv file to pandas dataframe"
   ]
  },
  {
   "cell_type": "code",
   "execution_count": 5,
   "id": "34b462da",
   "metadata": {
    "execution": {
     "iopub.execute_input": "2021-10-24T05:06:40.143867Z",
     "iopub.status.busy": "2021-10-24T05:06:40.143211Z",
     "iopub.status.idle": "2021-10-24T05:06:40.158213Z",
     "shell.execute_reply": "2021-10-24T05:06:40.158734Z",
     "shell.execute_reply.started": "2021-10-24T05:05:52.238229Z"
    },
    "id": "9YKIoB-i0kIi",
    "outputId": "09239e32-ab9a-4bdb-cd32-a29420c2c27c",
    "papermill": {
     "duration": 0.053811,
     "end_time": "2021-10-24T05:06:40.158905",
     "exception": false,
     "start_time": "2021-10-24T05:06:40.105094",
     "status": "completed"
    },
    "tags": []
   },
   "outputs": [
    {
     "data": {
      "text/html": [
       "<div>\n",
       "<style scoped>\n",
       "    .dataframe tbody tr th:only-of-type {\n",
       "        vertical-align: middle;\n",
       "    }\n",
       "\n",
       "    .dataframe tbody tr th {\n",
       "        vertical-align: top;\n",
       "    }\n",
       "\n",
       "    .dataframe thead th {\n",
       "        text-align: right;\n",
       "    }\n",
       "</style>\n",
       "<table border=\"1\" class=\"dataframe\">\n",
       "  <thead>\n",
       "    <tr style=\"text-align: right;\">\n",
       "      <th></th>\n",
       "      <th>Car_Name</th>\n",
       "      <th>Year</th>\n",
       "      <th>Selling_Price</th>\n",
       "      <th>Present_Price</th>\n",
       "      <th>Kms_Driven</th>\n",
       "      <th>Fuel_Type</th>\n",
       "      <th>Seller_Type</th>\n",
       "      <th>Transmission</th>\n",
       "      <th>Owner</th>\n",
       "    </tr>\n",
       "  </thead>\n",
       "  <tbody>\n",
       "    <tr>\n",
       "      <th>0</th>\n",
       "      <td>ritz</td>\n",
       "      <td>2014</td>\n",
       "      <td>3.35</td>\n",
       "      <td>5.59</td>\n",
       "      <td>27000</td>\n",
       "      <td>Petrol</td>\n",
       "      <td>Dealer</td>\n",
       "      <td>Manual</td>\n",
       "      <td>0</td>\n",
       "    </tr>\n",
       "    <tr>\n",
       "      <th>1</th>\n",
       "      <td>sx4</td>\n",
       "      <td>2013</td>\n",
       "      <td>4.75</td>\n",
       "      <td>9.54</td>\n",
       "      <td>43000</td>\n",
       "      <td>Diesel</td>\n",
       "      <td>Dealer</td>\n",
       "      <td>Manual</td>\n",
       "      <td>0</td>\n",
       "    </tr>\n",
       "    <tr>\n",
       "      <th>2</th>\n",
       "      <td>ciaz</td>\n",
       "      <td>2017</td>\n",
       "      <td>7.25</td>\n",
       "      <td>9.85</td>\n",
       "      <td>6900</td>\n",
       "      <td>Petrol</td>\n",
       "      <td>Dealer</td>\n",
       "      <td>Manual</td>\n",
       "      <td>0</td>\n",
       "    </tr>\n",
       "    <tr>\n",
       "      <th>3</th>\n",
       "      <td>wagon r</td>\n",
       "      <td>2011</td>\n",
       "      <td>2.85</td>\n",
       "      <td>4.15</td>\n",
       "      <td>5200</td>\n",
       "      <td>Petrol</td>\n",
       "      <td>Dealer</td>\n",
       "      <td>Manual</td>\n",
       "      <td>0</td>\n",
       "    </tr>\n",
       "    <tr>\n",
       "      <th>4</th>\n",
       "      <td>swift</td>\n",
       "      <td>2014</td>\n",
       "      <td>4.60</td>\n",
       "      <td>6.87</td>\n",
       "      <td>42450</td>\n",
       "      <td>Diesel</td>\n",
       "      <td>Dealer</td>\n",
       "      <td>Manual</td>\n",
       "      <td>0</td>\n",
       "    </tr>\n",
       "    <tr>\n",
       "      <th>5</th>\n",
       "      <td>vitara brezza</td>\n",
       "      <td>2018</td>\n",
       "      <td>9.25</td>\n",
       "      <td>9.83</td>\n",
       "      <td>2071</td>\n",
       "      <td>Diesel</td>\n",
       "      <td>Dealer</td>\n",
       "      <td>Manual</td>\n",
       "      <td>0</td>\n",
       "    </tr>\n",
       "    <tr>\n",
       "      <th>6</th>\n",
       "      <td>ciaz</td>\n",
       "      <td>2015</td>\n",
       "      <td>6.75</td>\n",
       "      <td>8.12</td>\n",
       "      <td>18796</td>\n",
       "      <td>Petrol</td>\n",
       "      <td>Dealer</td>\n",
       "      <td>Manual</td>\n",
       "      <td>0</td>\n",
       "    </tr>\n",
       "    <tr>\n",
       "      <th>7</th>\n",
       "      <td>s cross</td>\n",
       "      <td>2015</td>\n",
       "      <td>6.50</td>\n",
       "      <td>8.61</td>\n",
       "      <td>33429</td>\n",
       "      <td>Diesel</td>\n",
       "      <td>Dealer</td>\n",
       "      <td>Manual</td>\n",
       "      <td>0</td>\n",
       "    </tr>\n",
       "    <tr>\n",
       "      <th>8</th>\n",
       "      <td>ciaz</td>\n",
       "      <td>2016</td>\n",
       "      <td>8.75</td>\n",
       "      <td>8.89</td>\n",
       "      <td>20273</td>\n",
       "      <td>Diesel</td>\n",
       "      <td>Dealer</td>\n",
       "      <td>Manual</td>\n",
       "      <td>0</td>\n",
       "    </tr>\n",
       "    <tr>\n",
       "      <th>9</th>\n",
       "      <td>ciaz</td>\n",
       "      <td>2015</td>\n",
       "      <td>7.45</td>\n",
       "      <td>8.92</td>\n",
       "      <td>42367</td>\n",
       "      <td>Diesel</td>\n",
       "      <td>Dealer</td>\n",
       "      <td>Manual</td>\n",
       "      <td>0</td>\n",
       "    </tr>\n",
       "    <tr>\n",
       "      <th>10</th>\n",
       "      <td>alto 800</td>\n",
       "      <td>2017</td>\n",
       "      <td>2.85</td>\n",
       "      <td>3.60</td>\n",
       "      <td>2135</td>\n",
       "      <td>Petrol</td>\n",
       "      <td>Dealer</td>\n",
       "      <td>Manual</td>\n",
       "      <td>0</td>\n",
       "    </tr>\n",
       "    <tr>\n",
       "      <th>11</th>\n",
       "      <td>ciaz</td>\n",
       "      <td>2015</td>\n",
       "      <td>6.85</td>\n",
       "      <td>10.38</td>\n",
       "      <td>51000</td>\n",
       "      <td>Diesel</td>\n",
       "      <td>Dealer</td>\n",
       "      <td>Manual</td>\n",
       "      <td>0</td>\n",
       "    </tr>\n",
       "    <tr>\n",
       "      <th>12</th>\n",
       "      <td>ciaz</td>\n",
       "      <td>2015</td>\n",
       "      <td>7.50</td>\n",
       "      <td>9.94</td>\n",
       "      <td>15000</td>\n",
       "      <td>Petrol</td>\n",
       "      <td>Dealer</td>\n",
       "      <td>Automatic</td>\n",
       "      <td>0</td>\n",
       "    </tr>\n",
       "    <tr>\n",
       "      <th>13</th>\n",
       "      <td>ertiga</td>\n",
       "      <td>2015</td>\n",
       "      <td>6.10</td>\n",
       "      <td>7.71</td>\n",
       "      <td>26000</td>\n",
       "      <td>Petrol</td>\n",
       "      <td>Dealer</td>\n",
       "      <td>Manual</td>\n",
       "      <td>0</td>\n",
       "    </tr>\n",
       "    <tr>\n",
       "      <th>14</th>\n",
       "      <td>dzire</td>\n",
       "      <td>2009</td>\n",
       "      <td>2.25</td>\n",
       "      <td>7.21</td>\n",
       "      <td>77427</td>\n",
       "      <td>Petrol</td>\n",
       "      <td>Dealer</td>\n",
       "      <td>Manual</td>\n",
       "      <td>0</td>\n",
       "    </tr>\n",
       "    <tr>\n",
       "      <th>15</th>\n",
       "      <td>ertiga</td>\n",
       "      <td>2016</td>\n",
       "      <td>7.75</td>\n",
       "      <td>10.79</td>\n",
       "      <td>43000</td>\n",
       "      <td>Diesel</td>\n",
       "      <td>Dealer</td>\n",
       "      <td>Manual</td>\n",
       "      <td>0</td>\n",
       "    </tr>\n",
       "    <tr>\n",
       "      <th>16</th>\n",
       "      <td>ertiga</td>\n",
       "      <td>2015</td>\n",
       "      <td>7.25</td>\n",
       "      <td>10.79</td>\n",
       "      <td>41678</td>\n",
       "      <td>Diesel</td>\n",
       "      <td>Dealer</td>\n",
       "      <td>Manual</td>\n",
       "      <td>0</td>\n",
       "    </tr>\n",
       "    <tr>\n",
       "      <th>17</th>\n",
       "      <td>ertiga</td>\n",
       "      <td>2016</td>\n",
       "      <td>7.75</td>\n",
       "      <td>10.79</td>\n",
       "      <td>43000</td>\n",
       "      <td>Diesel</td>\n",
       "      <td>Dealer</td>\n",
       "      <td>Manual</td>\n",
       "      <td>0</td>\n",
       "    </tr>\n",
       "    <tr>\n",
       "      <th>18</th>\n",
       "      <td>wagon r</td>\n",
       "      <td>2015</td>\n",
       "      <td>3.25</td>\n",
       "      <td>5.09</td>\n",
       "      <td>35500</td>\n",
       "      <td>CNG</td>\n",
       "      <td>Dealer</td>\n",
       "      <td>Manual</td>\n",
       "      <td>0</td>\n",
       "    </tr>\n",
       "    <tr>\n",
       "      <th>19</th>\n",
       "      <td>sx4</td>\n",
       "      <td>2010</td>\n",
       "      <td>2.65</td>\n",
       "      <td>7.98</td>\n",
       "      <td>41442</td>\n",
       "      <td>Petrol</td>\n",
       "      <td>Dealer</td>\n",
       "      <td>Manual</td>\n",
       "      <td>0</td>\n",
       "    </tr>\n",
       "    <tr>\n",
       "      <th>20</th>\n",
       "      <td>alto k10</td>\n",
       "      <td>2016</td>\n",
       "      <td>2.85</td>\n",
       "      <td>3.95</td>\n",
       "      <td>25000</td>\n",
       "      <td>Petrol</td>\n",
       "      <td>Dealer</td>\n",
       "      <td>Manual</td>\n",
       "      <td>0</td>\n",
       "    </tr>\n",
       "    <tr>\n",
       "      <th>21</th>\n",
       "      <td>ignis</td>\n",
       "      <td>2017</td>\n",
       "      <td>4.90</td>\n",
       "      <td>5.71</td>\n",
       "      <td>2400</td>\n",
       "      <td>Petrol</td>\n",
       "      <td>Dealer</td>\n",
       "      <td>Manual</td>\n",
       "      <td>0</td>\n",
       "    </tr>\n",
       "    <tr>\n",
       "      <th>22</th>\n",
       "      <td>sx4</td>\n",
       "      <td>2011</td>\n",
       "      <td>4.40</td>\n",
       "      <td>8.01</td>\n",
       "      <td>50000</td>\n",
       "      <td>Petrol</td>\n",
       "      <td>Dealer</td>\n",
       "      <td>Automatic</td>\n",
       "      <td>0</td>\n",
       "    </tr>\n",
       "    <tr>\n",
       "      <th>23</th>\n",
       "      <td>alto k10</td>\n",
       "      <td>2014</td>\n",
       "      <td>2.50</td>\n",
       "      <td>3.46</td>\n",
       "      <td>45280</td>\n",
       "      <td>Petrol</td>\n",
       "      <td>Dealer</td>\n",
       "      <td>Manual</td>\n",
       "      <td>0</td>\n",
       "    </tr>\n",
       "    <tr>\n",
       "      <th>24</th>\n",
       "      <td>wagon r</td>\n",
       "      <td>2013</td>\n",
       "      <td>2.90</td>\n",
       "      <td>4.41</td>\n",
       "      <td>56879</td>\n",
       "      <td>Petrol</td>\n",
       "      <td>Dealer</td>\n",
       "      <td>Manual</td>\n",
       "      <td>0</td>\n",
       "    </tr>\n",
       "    <tr>\n",
       "      <th>25</th>\n",
       "      <td>swift</td>\n",
       "      <td>2011</td>\n",
       "      <td>3.00</td>\n",
       "      <td>4.99</td>\n",
       "      <td>20000</td>\n",
       "      <td>Petrol</td>\n",
       "      <td>Dealer</td>\n",
       "      <td>Manual</td>\n",
       "      <td>0</td>\n",
       "    </tr>\n",
       "    <tr>\n",
       "      <th>26</th>\n",
       "      <td>swift</td>\n",
       "      <td>2013</td>\n",
       "      <td>4.15</td>\n",
       "      <td>5.87</td>\n",
       "      <td>55138</td>\n",
       "      <td>Petrol</td>\n",
       "      <td>Dealer</td>\n",
       "      <td>Manual</td>\n",
       "      <td>0</td>\n",
       "    </tr>\n",
       "    <tr>\n",
       "      <th>27</th>\n",
       "      <td>swift</td>\n",
       "      <td>2017</td>\n",
       "      <td>6.00</td>\n",
       "      <td>6.49</td>\n",
       "      <td>16200</td>\n",
       "      <td>Petrol</td>\n",
       "      <td>Individual</td>\n",
       "      <td>Manual</td>\n",
       "      <td>0</td>\n",
       "    </tr>\n",
       "    <tr>\n",
       "      <th>28</th>\n",
       "      <td>alto k10</td>\n",
       "      <td>2010</td>\n",
       "      <td>1.95</td>\n",
       "      <td>3.95</td>\n",
       "      <td>44542</td>\n",
       "      <td>Petrol</td>\n",
       "      <td>Dealer</td>\n",
       "      <td>Manual</td>\n",
       "      <td>0</td>\n",
       "    </tr>\n",
       "    <tr>\n",
       "      <th>29</th>\n",
       "      <td>ciaz</td>\n",
       "      <td>2015</td>\n",
       "      <td>7.45</td>\n",
       "      <td>10.38</td>\n",
       "      <td>45000</td>\n",
       "      <td>Diesel</td>\n",
       "      <td>Dealer</td>\n",
       "      <td>Manual</td>\n",
       "      <td>0</td>\n",
       "    </tr>\n",
       "    <tr>\n",
       "      <th>30</th>\n",
       "      <td>ritz</td>\n",
       "      <td>2012</td>\n",
       "      <td>3.10</td>\n",
       "      <td>5.98</td>\n",
       "      <td>51439</td>\n",
       "      <td>Diesel</td>\n",
       "      <td>Dealer</td>\n",
       "      <td>Manual</td>\n",
       "      <td>0</td>\n",
       "    </tr>\n",
       "    <tr>\n",
       "      <th>31</th>\n",
       "      <td>ritz</td>\n",
       "      <td>2011</td>\n",
       "      <td>2.35</td>\n",
       "      <td>4.89</td>\n",
       "      <td>54200</td>\n",
       "      <td>Petrol</td>\n",
       "      <td>Dealer</td>\n",
       "      <td>Manual</td>\n",
       "      <td>0</td>\n",
       "    </tr>\n",
       "    <tr>\n",
       "      <th>32</th>\n",
       "      <td>swift</td>\n",
       "      <td>2014</td>\n",
       "      <td>4.95</td>\n",
       "      <td>7.49</td>\n",
       "      <td>39000</td>\n",
       "      <td>Diesel</td>\n",
       "      <td>Dealer</td>\n",
       "      <td>Manual</td>\n",
       "      <td>0</td>\n",
       "    </tr>\n",
       "    <tr>\n",
       "      <th>33</th>\n",
       "      <td>ertiga</td>\n",
       "      <td>2014</td>\n",
       "      <td>6.00</td>\n",
       "      <td>9.95</td>\n",
       "      <td>45000</td>\n",
       "      <td>Diesel</td>\n",
       "      <td>Dealer</td>\n",
       "      <td>Manual</td>\n",
       "      <td>0</td>\n",
       "    </tr>\n",
       "    <tr>\n",
       "      <th>34</th>\n",
       "      <td>dzire</td>\n",
       "      <td>2014</td>\n",
       "      <td>5.50</td>\n",
       "      <td>8.06</td>\n",
       "      <td>45000</td>\n",
       "      <td>Diesel</td>\n",
       "      <td>Dealer</td>\n",
       "      <td>Manual</td>\n",
       "      <td>0</td>\n",
       "    </tr>\n",
       "    <tr>\n",
       "      <th>35</th>\n",
       "      <td>sx4</td>\n",
       "      <td>2011</td>\n",
       "      <td>2.95</td>\n",
       "      <td>7.74</td>\n",
       "      <td>49998</td>\n",
       "      <td>CNG</td>\n",
       "      <td>Dealer</td>\n",
       "      <td>Manual</td>\n",
       "      <td>0</td>\n",
       "    </tr>\n",
       "    <tr>\n",
       "      <th>36</th>\n",
       "      <td>dzire</td>\n",
       "      <td>2015</td>\n",
       "      <td>4.65</td>\n",
       "      <td>7.20</td>\n",
       "      <td>48767</td>\n",
       "      <td>Petrol</td>\n",
       "      <td>Dealer</td>\n",
       "      <td>Manual</td>\n",
       "      <td>0</td>\n",
       "    </tr>\n",
       "    <tr>\n",
       "      <th>37</th>\n",
       "      <td>800</td>\n",
       "      <td>2003</td>\n",
       "      <td>0.35</td>\n",
       "      <td>2.28</td>\n",
       "      <td>127000</td>\n",
       "      <td>Petrol</td>\n",
       "      <td>Individual</td>\n",
       "      <td>Manual</td>\n",
       "      <td>0</td>\n",
       "    </tr>\n",
       "    <tr>\n",
       "      <th>38</th>\n",
       "      <td>alto k10</td>\n",
       "      <td>2016</td>\n",
       "      <td>3.00</td>\n",
       "      <td>3.76</td>\n",
       "      <td>10079</td>\n",
       "      <td>Petrol</td>\n",
       "      <td>Dealer</td>\n",
       "      <td>Manual</td>\n",
       "      <td>0</td>\n",
       "    </tr>\n",
       "    <tr>\n",
       "      <th>39</th>\n",
       "      <td>sx4</td>\n",
       "      <td>2003</td>\n",
       "      <td>2.25</td>\n",
       "      <td>7.98</td>\n",
       "      <td>62000</td>\n",
       "      <td>Petrol</td>\n",
       "      <td>Dealer</td>\n",
       "      <td>Manual</td>\n",
       "      <td>0</td>\n",
       "    </tr>\n",
       "    <tr>\n",
       "      <th>40</th>\n",
       "      <td>baleno</td>\n",
       "      <td>2016</td>\n",
       "      <td>5.85</td>\n",
       "      <td>7.87</td>\n",
       "      <td>24524</td>\n",
       "      <td>Petrol</td>\n",
       "      <td>Dealer</td>\n",
       "      <td>Automatic</td>\n",
       "      <td>0</td>\n",
       "    </tr>\n",
       "    <tr>\n",
       "      <th>41</th>\n",
       "      <td>alto k10</td>\n",
       "      <td>2014</td>\n",
       "      <td>2.55</td>\n",
       "      <td>3.98</td>\n",
       "      <td>46706</td>\n",
       "      <td>Petrol</td>\n",
       "      <td>Dealer</td>\n",
       "      <td>Manual</td>\n",
       "      <td>0</td>\n",
       "    </tr>\n",
       "    <tr>\n",
       "      <th>42</th>\n",
       "      <td>sx4</td>\n",
       "      <td>2008</td>\n",
       "      <td>1.95</td>\n",
       "      <td>7.15</td>\n",
       "      <td>58000</td>\n",
       "      <td>Petrol</td>\n",
       "      <td>Dealer</td>\n",
       "      <td>Manual</td>\n",
       "      <td>0</td>\n",
       "    </tr>\n",
       "    <tr>\n",
       "      <th>43</th>\n",
       "      <td>dzire</td>\n",
       "      <td>2014</td>\n",
       "      <td>5.50</td>\n",
       "      <td>8.06</td>\n",
       "      <td>45780</td>\n",
       "      <td>Diesel</td>\n",
       "      <td>Dealer</td>\n",
       "      <td>Manual</td>\n",
       "      <td>0</td>\n",
       "    </tr>\n",
       "    <tr>\n",
       "      <th>44</th>\n",
       "      <td>omni</td>\n",
       "      <td>2012</td>\n",
       "      <td>1.25</td>\n",
       "      <td>2.69</td>\n",
       "      <td>50000</td>\n",
       "      <td>Petrol</td>\n",
       "      <td>Dealer</td>\n",
       "      <td>Manual</td>\n",
       "      <td>0</td>\n",
       "    </tr>\n",
       "    <tr>\n",
       "      <th>45</th>\n",
       "      <td>ciaz</td>\n",
       "      <td>2014</td>\n",
       "      <td>7.50</td>\n",
       "      <td>12.04</td>\n",
       "      <td>15000</td>\n",
       "      <td>Petrol</td>\n",
       "      <td>Dealer</td>\n",
       "      <td>Automatic</td>\n",
       "      <td>0</td>\n",
       "    </tr>\n",
       "    <tr>\n",
       "      <th>46</th>\n",
       "      <td>ritz</td>\n",
       "      <td>2013</td>\n",
       "      <td>2.65</td>\n",
       "      <td>4.89</td>\n",
       "      <td>64532</td>\n",
       "      <td>Petrol</td>\n",
       "      <td>Dealer</td>\n",
       "      <td>Manual</td>\n",
       "      <td>0</td>\n",
       "    </tr>\n",
       "    <tr>\n",
       "      <th>47</th>\n",
       "      <td>wagon r</td>\n",
       "      <td>2006</td>\n",
       "      <td>1.05</td>\n",
       "      <td>4.15</td>\n",
       "      <td>65000</td>\n",
       "      <td>Petrol</td>\n",
       "      <td>Dealer</td>\n",
       "      <td>Manual</td>\n",
       "      <td>0</td>\n",
       "    </tr>\n",
       "    <tr>\n",
       "      <th>48</th>\n",
       "      <td>ertiga</td>\n",
       "      <td>2015</td>\n",
       "      <td>5.80</td>\n",
       "      <td>7.71</td>\n",
       "      <td>25870</td>\n",
       "      <td>Petrol</td>\n",
       "      <td>Dealer</td>\n",
       "      <td>Manual</td>\n",
       "      <td>0</td>\n",
       "    </tr>\n",
       "    <tr>\n",
       "      <th>49</th>\n",
       "      <td>ciaz</td>\n",
       "      <td>2017</td>\n",
       "      <td>7.75</td>\n",
       "      <td>9.29</td>\n",
       "      <td>37000</td>\n",
       "      <td>Petrol</td>\n",
       "      <td>Dealer</td>\n",
       "      <td>Automatic</td>\n",
       "      <td>0</td>\n",
       "    </tr>\n",
       "    <tr>\n",
       "      <th>50</th>\n",
       "      <td>fortuner</td>\n",
       "      <td>2012</td>\n",
       "      <td>14.90</td>\n",
       "      <td>30.61</td>\n",
       "      <td>104707</td>\n",
       "      <td>Diesel</td>\n",
       "      <td>Dealer</td>\n",
       "      <td>Automatic</td>\n",
       "      <td>0</td>\n",
       "    </tr>\n",
       "    <tr>\n",
       "      <th>51</th>\n",
       "      <td>fortuner</td>\n",
       "      <td>2015</td>\n",
       "      <td>23.00</td>\n",
       "      <td>30.61</td>\n",
       "      <td>40000</td>\n",
       "      <td>Diesel</td>\n",
       "      <td>Dealer</td>\n",
       "      <td>Automatic</td>\n",
       "      <td>0</td>\n",
       "    </tr>\n",
       "    <tr>\n",
       "      <th>52</th>\n",
       "      <td>innova</td>\n",
       "      <td>2017</td>\n",
       "      <td>18.00</td>\n",
       "      <td>19.77</td>\n",
       "      <td>15000</td>\n",
       "      <td>Diesel</td>\n",
       "      <td>Dealer</td>\n",
       "      <td>Automatic</td>\n",
       "      <td>0</td>\n",
       "    </tr>\n",
       "    <tr>\n",
       "      <th>53</th>\n",
       "      <td>fortuner</td>\n",
       "      <td>2013</td>\n",
       "      <td>16.00</td>\n",
       "      <td>30.61</td>\n",
       "      <td>135000</td>\n",
       "      <td>Diesel</td>\n",
       "      <td>Individual</td>\n",
       "      <td>Automatic</td>\n",
       "      <td>0</td>\n",
       "    </tr>\n",
       "    <tr>\n",
       "      <th>54</th>\n",
       "      <td>innova</td>\n",
       "      <td>2005</td>\n",
       "      <td>2.75</td>\n",
       "      <td>10.21</td>\n",
       "      <td>90000</td>\n",
       "      <td>Petrol</td>\n",
       "      <td>Individual</td>\n",
       "      <td>Manual</td>\n",
       "      <td>0</td>\n",
       "    </tr>\n",
       "    <tr>\n",
       "      <th>55</th>\n",
       "      <td>corolla altis</td>\n",
       "      <td>2009</td>\n",
       "      <td>3.60</td>\n",
       "      <td>15.04</td>\n",
       "      <td>70000</td>\n",
       "      <td>Petrol</td>\n",
       "      <td>Dealer</td>\n",
       "      <td>Automatic</td>\n",
       "      <td>0</td>\n",
       "    </tr>\n",
       "    <tr>\n",
       "      <th>56</th>\n",
       "      <td>etios cross</td>\n",
       "      <td>2015</td>\n",
       "      <td>4.50</td>\n",
       "      <td>7.27</td>\n",
       "      <td>40534</td>\n",
       "      <td>Petrol</td>\n",
       "      <td>Dealer</td>\n",
       "      <td>Manual</td>\n",
       "      <td>0</td>\n",
       "    </tr>\n",
       "    <tr>\n",
       "      <th>57</th>\n",
       "      <td>corolla altis</td>\n",
       "      <td>2010</td>\n",
       "      <td>4.75</td>\n",
       "      <td>18.54</td>\n",
       "      <td>50000</td>\n",
       "      <td>Petrol</td>\n",
       "      <td>Dealer</td>\n",
       "      <td>Manual</td>\n",
       "      <td>0</td>\n",
       "    </tr>\n",
       "    <tr>\n",
       "      <th>58</th>\n",
       "      <td>etios g</td>\n",
       "      <td>2014</td>\n",
       "      <td>4.10</td>\n",
       "      <td>6.80</td>\n",
       "      <td>39485</td>\n",
       "      <td>Petrol</td>\n",
       "      <td>Dealer</td>\n",
       "      <td>Manual</td>\n",
       "      <td>1</td>\n",
       "    </tr>\n",
       "    <tr>\n",
       "      <th>59</th>\n",
       "      <td>fortuner</td>\n",
       "      <td>2014</td>\n",
       "      <td>19.99</td>\n",
       "      <td>35.96</td>\n",
       "      <td>41000</td>\n",
       "      <td>Diesel</td>\n",
       "      <td>Dealer</td>\n",
       "      <td>Automatic</td>\n",
       "      <td>0</td>\n",
       "    </tr>\n",
       "    <tr>\n",
       "      <th>60</th>\n",
       "      <td>corolla altis</td>\n",
       "      <td>2013</td>\n",
       "      <td>6.95</td>\n",
       "      <td>18.61</td>\n",
       "      <td>40001</td>\n",
       "      <td>Petrol</td>\n",
       "      <td>Dealer</td>\n",
       "      <td>Manual</td>\n",
       "      <td>0</td>\n",
       "    </tr>\n",
       "    <tr>\n",
       "      <th>61</th>\n",
       "      <td>etios cross</td>\n",
       "      <td>2015</td>\n",
       "      <td>4.50</td>\n",
       "      <td>7.70</td>\n",
       "      <td>40588</td>\n",
       "      <td>Petrol</td>\n",
       "      <td>Dealer</td>\n",
       "      <td>Manual</td>\n",
       "      <td>0</td>\n",
       "    </tr>\n",
       "    <tr>\n",
       "      <th>62</th>\n",
       "      <td>fortuner</td>\n",
       "      <td>2014</td>\n",
       "      <td>18.75</td>\n",
       "      <td>35.96</td>\n",
       "      <td>78000</td>\n",
       "      <td>Diesel</td>\n",
       "      <td>Dealer</td>\n",
       "      <td>Automatic</td>\n",
       "      <td>0</td>\n",
       "    </tr>\n",
       "    <tr>\n",
       "      <th>63</th>\n",
       "      <td>fortuner</td>\n",
       "      <td>2015</td>\n",
       "      <td>23.50</td>\n",
       "      <td>35.96</td>\n",
       "      <td>47000</td>\n",
       "      <td>Diesel</td>\n",
       "      <td>Dealer</td>\n",
       "      <td>Automatic</td>\n",
       "      <td>0</td>\n",
       "    </tr>\n",
       "    <tr>\n",
       "      <th>64</th>\n",
       "      <td>fortuner</td>\n",
       "      <td>2017</td>\n",
       "      <td>33.00</td>\n",
       "      <td>36.23</td>\n",
       "      <td>6000</td>\n",
       "      <td>Diesel</td>\n",
       "      <td>Dealer</td>\n",
       "      <td>Automatic</td>\n",
       "      <td>0</td>\n",
       "    </tr>\n",
       "    <tr>\n",
       "      <th>65</th>\n",
       "      <td>etios liva</td>\n",
       "      <td>2014</td>\n",
       "      <td>4.75</td>\n",
       "      <td>6.95</td>\n",
       "      <td>45000</td>\n",
       "      <td>Diesel</td>\n",
       "      <td>Dealer</td>\n",
       "      <td>Manual</td>\n",
       "      <td>0</td>\n",
       "    </tr>\n",
       "    <tr>\n",
       "      <th>66</th>\n",
       "      <td>innova</td>\n",
       "      <td>2017</td>\n",
       "      <td>19.75</td>\n",
       "      <td>23.15</td>\n",
       "      <td>11000</td>\n",
       "      <td>Petrol</td>\n",
       "      <td>Dealer</td>\n",
       "      <td>Automatic</td>\n",
       "      <td>0</td>\n",
       "    </tr>\n",
       "    <tr>\n",
       "      <th>67</th>\n",
       "      <td>fortuner</td>\n",
       "      <td>2010</td>\n",
       "      <td>9.25</td>\n",
       "      <td>20.45</td>\n",
       "      <td>59000</td>\n",
       "      <td>Diesel</td>\n",
       "      <td>Dealer</td>\n",
       "      <td>Manual</td>\n",
       "      <td>0</td>\n",
       "    </tr>\n",
       "    <tr>\n",
       "      <th>68</th>\n",
       "      <td>corolla altis</td>\n",
       "      <td>2011</td>\n",
       "      <td>4.35</td>\n",
       "      <td>13.74</td>\n",
       "      <td>88000</td>\n",
       "      <td>Petrol</td>\n",
       "      <td>Dealer</td>\n",
       "      <td>Manual</td>\n",
       "      <td>0</td>\n",
       "    </tr>\n",
       "    <tr>\n",
       "      <th>69</th>\n",
       "      <td>corolla altis</td>\n",
       "      <td>2016</td>\n",
       "      <td>14.25</td>\n",
       "      <td>20.91</td>\n",
       "      <td>12000</td>\n",
       "      <td>Petrol</td>\n",
       "      <td>Dealer</td>\n",
       "      <td>Manual</td>\n",
       "      <td>0</td>\n",
       "    </tr>\n",
       "    <tr>\n",
       "      <th>70</th>\n",
       "      <td>etios liva</td>\n",
       "      <td>2014</td>\n",
       "      <td>3.95</td>\n",
       "      <td>6.76</td>\n",
       "      <td>71000</td>\n",
       "      <td>Diesel</td>\n",
       "      <td>Dealer</td>\n",
       "      <td>Manual</td>\n",
       "      <td>0</td>\n",
       "    </tr>\n",
       "    <tr>\n",
       "      <th>71</th>\n",
       "      <td>corolla altis</td>\n",
       "      <td>2011</td>\n",
       "      <td>4.50</td>\n",
       "      <td>12.48</td>\n",
       "      <td>45000</td>\n",
       "      <td>Diesel</td>\n",
       "      <td>Dealer</td>\n",
       "      <td>Manual</td>\n",
       "      <td>0</td>\n",
       "    </tr>\n",
       "    <tr>\n",
       "      <th>72</th>\n",
       "      <td>corolla altis</td>\n",
       "      <td>2013</td>\n",
       "      <td>7.45</td>\n",
       "      <td>18.61</td>\n",
       "      <td>56001</td>\n",
       "      <td>Petrol</td>\n",
       "      <td>Dealer</td>\n",
       "      <td>Manual</td>\n",
       "      <td>0</td>\n",
       "    </tr>\n",
       "    <tr>\n",
       "      <th>73</th>\n",
       "      <td>etios liva</td>\n",
       "      <td>2011</td>\n",
       "      <td>2.65</td>\n",
       "      <td>5.71</td>\n",
       "      <td>43000</td>\n",
       "      <td>Petrol</td>\n",
       "      <td>Dealer</td>\n",
       "      <td>Manual</td>\n",
       "      <td>0</td>\n",
       "    </tr>\n",
       "    <tr>\n",
       "      <th>74</th>\n",
       "      <td>etios cross</td>\n",
       "      <td>2014</td>\n",
       "      <td>4.90</td>\n",
       "      <td>8.93</td>\n",
       "      <td>83000</td>\n",
       "      <td>Diesel</td>\n",
       "      <td>Dealer</td>\n",
       "      <td>Manual</td>\n",
       "      <td>0</td>\n",
       "    </tr>\n",
       "    <tr>\n",
       "      <th>75</th>\n",
       "      <td>etios g</td>\n",
       "      <td>2015</td>\n",
       "      <td>3.95</td>\n",
       "      <td>6.80</td>\n",
       "      <td>36000</td>\n",
       "      <td>Petrol</td>\n",
       "      <td>Dealer</td>\n",
       "      <td>Manual</td>\n",
       "      <td>0</td>\n",
       "    </tr>\n",
       "    <tr>\n",
       "      <th>76</th>\n",
       "      <td>corolla altis</td>\n",
       "      <td>2013</td>\n",
       "      <td>5.50</td>\n",
       "      <td>14.68</td>\n",
       "      <td>72000</td>\n",
       "      <td>Petrol</td>\n",
       "      <td>Dealer</td>\n",
       "      <td>Manual</td>\n",
       "      <td>0</td>\n",
       "    </tr>\n",
       "    <tr>\n",
       "      <th>77</th>\n",
       "      <td>corolla</td>\n",
       "      <td>2004</td>\n",
       "      <td>1.50</td>\n",
       "      <td>12.35</td>\n",
       "      <td>135154</td>\n",
       "      <td>Petrol</td>\n",
       "      <td>Dealer</td>\n",
       "      <td>Automatic</td>\n",
       "      <td>0</td>\n",
       "    </tr>\n",
       "    <tr>\n",
       "      <th>78</th>\n",
       "      <td>corolla altis</td>\n",
       "      <td>2010</td>\n",
       "      <td>5.25</td>\n",
       "      <td>22.83</td>\n",
       "      <td>80000</td>\n",
       "      <td>Petrol</td>\n",
       "      <td>Dealer</td>\n",
       "      <td>Automatic</td>\n",
       "      <td>0</td>\n",
       "    </tr>\n",
       "    <tr>\n",
       "      <th>79</th>\n",
       "      <td>fortuner</td>\n",
       "      <td>2012</td>\n",
       "      <td>14.50</td>\n",
       "      <td>30.61</td>\n",
       "      <td>89000</td>\n",
       "      <td>Diesel</td>\n",
       "      <td>Dealer</td>\n",
       "      <td>Automatic</td>\n",
       "      <td>0</td>\n",
       "    </tr>\n",
       "    <tr>\n",
       "      <th>80</th>\n",
       "      <td>corolla altis</td>\n",
       "      <td>2016</td>\n",
       "      <td>14.73</td>\n",
       "      <td>14.89</td>\n",
       "      <td>23000</td>\n",
       "      <td>Diesel</td>\n",
       "      <td>Dealer</td>\n",
       "      <td>Manual</td>\n",
       "      <td>0</td>\n",
       "    </tr>\n",
       "    <tr>\n",
       "      <th>81</th>\n",
       "      <td>etios gd</td>\n",
       "      <td>2015</td>\n",
       "      <td>4.75</td>\n",
       "      <td>7.85</td>\n",
       "      <td>40000</td>\n",
       "      <td>Diesel</td>\n",
       "      <td>Dealer</td>\n",
       "      <td>Manual</td>\n",
       "      <td>0</td>\n",
       "    </tr>\n",
       "    <tr>\n",
       "      <th>82</th>\n",
       "      <td>innova</td>\n",
       "      <td>2017</td>\n",
       "      <td>23.00</td>\n",
       "      <td>25.39</td>\n",
       "      <td>15000</td>\n",
       "      <td>Diesel</td>\n",
       "      <td>Dealer</td>\n",
       "      <td>Automatic</td>\n",
       "      <td>0</td>\n",
       "    </tr>\n",
       "    <tr>\n",
       "      <th>83</th>\n",
       "      <td>innova</td>\n",
       "      <td>2015</td>\n",
       "      <td>12.50</td>\n",
       "      <td>13.46</td>\n",
       "      <td>38000</td>\n",
       "      <td>Diesel</td>\n",
       "      <td>Dealer</td>\n",
       "      <td>Manual</td>\n",
       "      <td>0</td>\n",
       "    </tr>\n",
       "    <tr>\n",
       "      <th>84</th>\n",
       "      <td>innova</td>\n",
       "      <td>2005</td>\n",
       "      <td>3.49</td>\n",
       "      <td>13.46</td>\n",
       "      <td>197176</td>\n",
       "      <td>Diesel</td>\n",
       "      <td>Dealer</td>\n",
       "      <td>Manual</td>\n",
       "      <td>0</td>\n",
       "    </tr>\n",
       "    <tr>\n",
       "      <th>85</th>\n",
       "      <td>camry</td>\n",
       "      <td>2006</td>\n",
       "      <td>2.50</td>\n",
       "      <td>23.73</td>\n",
       "      <td>142000</td>\n",
       "      <td>Petrol</td>\n",
       "      <td>Individual</td>\n",
       "      <td>Automatic</td>\n",
       "      <td>3</td>\n",
       "    </tr>\n",
       "    <tr>\n",
       "      <th>86</th>\n",
       "      <td>land cruiser</td>\n",
       "      <td>2010</td>\n",
       "      <td>35.00</td>\n",
       "      <td>92.60</td>\n",
       "      <td>78000</td>\n",
       "      <td>Diesel</td>\n",
       "      <td>Dealer</td>\n",
       "      <td>Manual</td>\n",
       "      <td>0</td>\n",
       "    </tr>\n",
       "    <tr>\n",
       "      <th>87</th>\n",
       "      <td>corolla altis</td>\n",
       "      <td>2012</td>\n",
       "      <td>5.90</td>\n",
       "      <td>13.74</td>\n",
       "      <td>56000</td>\n",
       "      <td>Petrol</td>\n",
       "      <td>Dealer</td>\n",
       "      <td>Manual</td>\n",
       "      <td>0</td>\n",
       "    </tr>\n",
       "    <tr>\n",
       "      <th>88</th>\n",
       "      <td>etios liva</td>\n",
       "      <td>2013</td>\n",
       "      <td>3.45</td>\n",
       "      <td>6.05</td>\n",
       "      <td>47000</td>\n",
       "      <td>Petrol</td>\n",
       "      <td>Dealer</td>\n",
       "      <td>Manual</td>\n",
       "      <td>0</td>\n",
       "    </tr>\n",
       "    <tr>\n",
       "      <th>89</th>\n",
       "      <td>etios g</td>\n",
       "      <td>2014</td>\n",
       "      <td>4.75</td>\n",
       "      <td>6.76</td>\n",
       "      <td>40000</td>\n",
       "      <td>Petrol</td>\n",
       "      <td>Dealer</td>\n",
       "      <td>Manual</td>\n",
       "      <td>0</td>\n",
       "    </tr>\n",
       "    <tr>\n",
       "      <th>90</th>\n",
       "      <td>corolla altis</td>\n",
       "      <td>2009</td>\n",
       "      <td>3.80</td>\n",
       "      <td>18.61</td>\n",
       "      <td>62000</td>\n",
       "      <td>Petrol</td>\n",
       "      <td>Dealer</td>\n",
       "      <td>Manual</td>\n",
       "      <td>0</td>\n",
       "    </tr>\n",
       "    <tr>\n",
       "      <th>91</th>\n",
       "      <td>innova</td>\n",
       "      <td>2014</td>\n",
       "      <td>11.25</td>\n",
       "      <td>16.09</td>\n",
       "      <td>58242</td>\n",
       "      <td>Diesel</td>\n",
       "      <td>Dealer</td>\n",
       "      <td>Manual</td>\n",
       "      <td>0</td>\n",
       "    </tr>\n",
       "    <tr>\n",
       "      <th>92</th>\n",
       "      <td>innova</td>\n",
       "      <td>2005</td>\n",
       "      <td>3.51</td>\n",
       "      <td>13.70</td>\n",
       "      <td>75000</td>\n",
       "      <td>Petrol</td>\n",
       "      <td>Dealer</td>\n",
       "      <td>Manual</td>\n",
       "      <td>0</td>\n",
       "    </tr>\n",
       "    <tr>\n",
       "      <th>93</th>\n",
       "      <td>fortuner</td>\n",
       "      <td>2015</td>\n",
       "      <td>23.00</td>\n",
       "      <td>30.61</td>\n",
       "      <td>40000</td>\n",
       "      <td>Diesel</td>\n",
       "      <td>Dealer</td>\n",
       "      <td>Automatic</td>\n",
       "      <td>0</td>\n",
       "    </tr>\n",
       "    <tr>\n",
       "      <th>94</th>\n",
       "      <td>corolla altis</td>\n",
       "      <td>2008</td>\n",
       "      <td>4.00</td>\n",
       "      <td>22.78</td>\n",
       "      <td>89000</td>\n",
       "      <td>Petrol</td>\n",
       "      <td>Dealer</td>\n",
       "      <td>Automatic</td>\n",
       "      <td>0</td>\n",
       "    </tr>\n",
       "    <tr>\n",
       "      <th>95</th>\n",
       "      <td>corolla altis</td>\n",
       "      <td>2012</td>\n",
       "      <td>5.85</td>\n",
       "      <td>18.61</td>\n",
       "      <td>72000</td>\n",
       "      <td>Petrol</td>\n",
       "      <td>Dealer</td>\n",
       "      <td>Manual</td>\n",
       "      <td>0</td>\n",
       "    </tr>\n",
       "    <tr>\n",
       "      <th>96</th>\n",
       "      <td>innova</td>\n",
       "      <td>2016</td>\n",
       "      <td>20.75</td>\n",
       "      <td>25.39</td>\n",
       "      <td>29000</td>\n",
       "      <td>Diesel</td>\n",
       "      <td>Dealer</td>\n",
       "      <td>Automatic</td>\n",
       "      <td>0</td>\n",
       "    </tr>\n",
       "    <tr>\n",
       "      <th>97</th>\n",
       "      <td>corolla altis</td>\n",
       "      <td>2017</td>\n",
       "      <td>17.00</td>\n",
       "      <td>18.64</td>\n",
       "      <td>8700</td>\n",
       "      <td>Petrol</td>\n",
       "      <td>Dealer</td>\n",
       "      <td>Manual</td>\n",
       "      <td>0</td>\n",
       "    </tr>\n",
       "    <tr>\n",
       "      <th>98</th>\n",
       "      <td>corolla altis</td>\n",
       "      <td>2013</td>\n",
       "      <td>7.05</td>\n",
       "      <td>18.61</td>\n",
       "      <td>45000</td>\n",
       "      <td>Petrol</td>\n",
       "      <td>Dealer</td>\n",
       "      <td>Manual</td>\n",
       "      <td>0</td>\n",
       "    </tr>\n",
       "    <tr>\n",
       "      <th>99</th>\n",
       "      <td>fortuner</td>\n",
       "      <td>2010</td>\n",
       "      <td>9.65</td>\n",
       "      <td>20.45</td>\n",
       "      <td>50024</td>\n",
       "      <td>Diesel</td>\n",
       "      <td>Dealer</td>\n",
       "      <td>Manual</td>\n",
       "      <td>0</td>\n",
       "    </tr>\n",
       "  </tbody>\n",
       "</table>\n",
       "</div>"
      ],
      "text/plain": [
       "         Car_Name  Year  Selling_Price  Present_Price  Kms_Driven Fuel_Type  \\\n",
       "0            ritz  2014           3.35           5.59       27000    Petrol   \n",
       "1             sx4  2013           4.75           9.54       43000    Diesel   \n",
       "2            ciaz  2017           7.25           9.85        6900    Petrol   \n",
       "3         wagon r  2011           2.85           4.15        5200    Petrol   \n",
       "4           swift  2014           4.60           6.87       42450    Diesel   \n",
       "5   vitara brezza  2018           9.25           9.83        2071    Diesel   \n",
       "6            ciaz  2015           6.75           8.12       18796    Petrol   \n",
       "7         s cross  2015           6.50           8.61       33429    Diesel   \n",
       "8            ciaz  2016           8.75           8.89       20273    Diesel   \n",
       "9            ciaz  2015           7.45           8.92       42367    Diesel   \n",
       "10       alto 800  2017           2.85           3.60        2135    Petrol   \n",
       "11           ciaz  2015           6.85          10.38       51000    Diesel   \n",
       "12           ciaz  2015           7.50           9.94       15000    Petrol   \n",
       "13         ertiga  2015           6.10           7.71       26000    Petrol   \n",
       "14          dzire  2009           2.25           7.21       77427    Petrol   \n",
       "15         ertiga  2016           7.75          10.79       43000    Diesel   \n",
       "16         ertiga  2015           7.25          10.79       41678    Diesel   \n",
       "17         ertiga  2016           7.75          10.79       43000    Diesel   \n",
       "18        wagon r  2015           3.25           5.09       35500       CNG   \n",
       "19            sx4  2010           2.65           7.98       41442    Petrol   \n",
       "20       alto k10  2016           2.85           3.95       25000    Petrol   \n",
       "21          ignis  2017           4.90           5.71        2400    Petrol   \n",
       "22            sx4  2011           4.40           8.01       50000    Petrol   \n",
       "23       alto k10  2014           2.50           3.46       45280    Petrol   \n",
       "24        wagon r  2013           2.90           4.41       56879    Petrol   \n",
       "25          swift  2011           3.00           4.99       20000    Petrol   \n",
       "26          swift  2013           4.15           5.87       55138    Petrol   \n",
       "27          swift  2017           6.00           6.49       16200    Petrol   \n",
       "28       alto k10  2010           1.95           3.95       44542    Petrol   \n",
       "29           ciaz  2015           7.45          10.38       45000    Diesel   \n",
       "30           ritz  2012           3.10           5.98       51439    Diesel   \n",
       "31           ritz  2011           2.35           4.89       54200    Petrol   \n",
       "32          swift  2014           4.95           7.49       39000    Diesel   \n",
       "33         ertiga  2014           6.00           9.95       45000    Diesel   \n",
       "34          dzire  2014           5.50           8.06       45000    Diesel   \n",
       "35            sx4  2011           2.95           7.74       49998       CNG   \n",
       "36          dzire  2015           4.65           7.20       48767    Petrol   \n",
       "37            800  2003           0.35           2.28      127000    Petrol   \n",
       "38       alto k10  2016           3.00           3.76       10079    Petrol   \n",
       "39            sx4  2003           2.25           7.98       62000    Petrol   \n",
       "40         baleno  2016           5.85           7.87       24524    Petrol   \n",
       "41       alto k10  2014           2.55           3.98       46706    Petrol   \n",
       "42            sx4  2008           1.95           7.15       58000    Petrol   \n",
       "43          dzire  2014           5.50           8.06       45780    Diesel   \n",
       "44           omni  2012           1.25           2.69       50000    Petrol   \n",
       "45           ciaz  2014           7.50          12.04       15000    Petrol   \n",
       "46           ritz  2013           2.65           4.89       64532    Petrol   \n",
       "47        wagon r  2006           1.05           4.15       65000    Petrol   \n",
       "48         ertiga  2015           5.80           7.71       25870    Petrol   \n",
       "49           ciaz  2017           7.75           9.29       37000    Petrol   \n",
       "50       fortuner  2012          14.90          30.61      104707    Diesel   \n",
       "51       fortuner  2015          23.00          30.61       40000    Diesel   \n",
       "52         innova  2017          18.00          19.77       15000    Diesel   \n",
       "53       fortuner  2013          16.00          30.61      135000    Diesel   \n",
       "54         innova  2005           2.75          10.21       90000    Petrol   \n",
       "55  corolla altis  2009           3.60          15.04       70000    Petrol   \n",
       "56    etios cross  2015           4.50           7.27       40534    Petrol   \n",
       "57  corolla altis  2010           4.75          18.54       50000    Petrol   \n",
       "58        etios g  2014           4.10           6.80       39485    Petrol   \n",
       "59       fortuner  2014          19.99          35.96       41000    Diesel   \n",
       "60  corolla altis  2013           6.95          18.61       40001    Petrol   \n",
       "61    etios cross  2015           4.50           7.70       40588    Petrol   \n",
       "62       fortuner  2014          18.75          35.96       78000    Diesel   \n",
       "63       fortuner  2015          23.50          35.96       47000    Diesel   \n",
       "64       fortuner  2017          33.00          36.23        6000    Diesel   \n",
       "65     etios liva  2014           4.75           6.95       45000    Diesel   \n",
       "66         innova  2017          19.75          23.15       11000    Petrol   \n",
       "67       fortuner  2010           9.25          20.45       59000    Diesel   \n",
       "68  corolla altis  2011           4.35          13.74       88000    Petrol   \n",
       "69  corolla altis  2016          14.25          20.91       12000    Petrol   \n",
       "70     etios liva  2014           3.95           6.76       71000    Diesel   \n",
       "71  corolla altis  2011           4.50          12.48       45000    Diesel   \n",
       "72  corolla altis  2013           7.45          18.61       56001    Petrol   \n",
       "73     etios liva  2011           2.65           5.71       43000    Petrol   \n",
       "74    etios cross  2014           4.90           8.93       83000    Diesel   \n",
       "75        etios g  2015           3.95           6.80       36000    Petrol   \n",
       "76  corolla altis  2013           5.50          14.68       72000    Petrol   \n",
       "77        corolla  2004           1.50          12.35      135154    Petrol   \n",
       "78  corolla altis  2010           5.25          22.83       80000    Petrol   \n",
       "79       fortuner  2012          14.50          30.61       89000    Diesel   \n",
       "80  corolla altis  2016          14.73          14.89       23000    Diesel   \n",
       "81       etios gd  2015           4.75           7.85       40000    Diesel   \n",
       "82         innova  2017          23.00          25.39       15000    Diesel   \n",
       "83         innova  2015          12.50          13.46       38000    Diesel   \n",
       "84         innova  2005           3.49          13.46      197176    Diesel   \n",
       "85          camry  2006           2.50          23.73      142000    Petrol   \n",
       "86   land cruiser  2010          35.00          92.60       78000    Diesel   \n",
       "87  corolla altis  2012           5.90          13.74       56000    Petrol   \n",
       "88     etios liva  2013           3.45           6.05       47000    Petrol   \n",
       "89        etios g  2014           4.75           6.76       40000    Petrol   \n",
       "90  corolla altis  2009           3.80          18.61       62000    Petrol   \n",
       "91         innova  2014          11.25          16.09       58242    Diesel   \n",
       "92         innova  2005           3.51          13.70       75000    Petrol   \n",
       "93       fortuner  2015          23.00          30.61       40000    Diesel   \n",
       "94  corolla altis  2008           4.00          22.78       89000    Petrol   \n",
       "95  corolla altis  2012           5.85          18.61       72000    Petrol   \n",
       "96         innova  2016          20.75          25.39       29000    Diesel   \n",
       "97  corolla altis  2017          17.00          18.64        8700    Petrol   \n",
       "98  corolla altis  2013           7.05          18.61       45000    Petrol   \n",
       "99       fortuner  2010           9.65          20.45       50024    Diesel   \n",
       "\n",
       "   Seller_Type Transmission  Owner  \n",
       "0       Dealer       Manual      0  \n",
       "1       Dealer       Manual      0  \n",
       "2       Dealer       Manual      0  \n",
       "3       Dealer       Manual      0  \n",
       "4       Dealer       Manual      0  \n",
       "5       Dealer       Manual      0  \n",
       "6       Dealer       Manual      0  \n",
       "7       Dealer       Manual      0  \n",
       "8       Dealer       Manual      0  \n",
       "9       Dealer       Manual      0  \n",
       "10      Dealer       Manual      0  \n",
       "11      Dealer       Manual      0  \n",
       "12      Dealer    Automatic      0  \n",
       "13      Dealer       Manual      0  \n",
       "14      Dealer       Manual      0  \n",
       "15      Dealer       Manual      0  \n",
       "16      Dealer       Manual      0  \n",
       "17      Dealer       Manual      0  \n",
       "18      Dealer       Manual      0  \n",
       "19      Dealer       Manual      0  \n",
       "20      Dealer       Manual      0  \n",
       "21      Dealer       Manual      0  \n",
       "22      Dealer    Automatic      0  \n",
       "23      Dealer       Manual      0  \n",
       "24      Dealer       Manual      0  \n",
       "25      Dealer       Manual      0  \n",
       "26      Dealer       Manual      0  \n",
       "27  Individual       Manual      0  \n",
       "28      Dealer       Manual      0  \n",
       "29      Dealer       Manual      0  \n",
       "30      Dealer       Manual      0  \n",
       "31      Dealer       Manual      0  \n",
       "32      Dealer       Manual      0  \n",
       "33      Dealer       Manual      0  \n",
       "34      Dealer       Manual      0  \n",
       "35      Dealer       Manual      0  \n",
       "36      Dealer       Manual      0  \n",
       "37  Individual       Manual      0  \n",
       "38      Dealer       Manual      0  \n",
       "39      Dealer       Manual      0  \n",
       "40      Dealer    Automatic      0  \n",
       "41      Dealer       Manual      0  \n",
       "42      Dealer       Manual      0  \n",
       "43      Dealer       Manual      0  \n",
       "44      Dealer       Manual      0  \n",
       "45      Dealer    Automatic      0  \n",
       "46      Dealer       Manual      0  \n",
       "47      Dealer       Manual      0  \n",
       "48      Dealer       Manual      0  \n",
       "49      Dealer    Automatic      0  \n",
       "50      Dealer    Automatic      0  \n",
       "51      Dealer    Automatic      0  \n",
       "52      Dealer    Automatic      0  \n",
       "53  Individual    Automatic      0  \n",
       "54  Individual       Manual      0  \n",
       "55      Dealer    Automatic      0  \n",
       "56      Dealer       Manual      0  \n",
       "57      Dealer       Manual      0  \n",
       "58      Dealer       Manual      1  \n",
       "59      Dealer    Automatic      0  \n",
       "60      Dealer       Manual      0  \n",
       "61      Dealer       Manual      0  \n",
       "62      Dealer    Automatic      0  \n",
       "63      Dealer    Automatic      0  \n",
       "64      Dealer    Automatic      0  \n",
       "65      Dealer       Manual      0  \n",
       "66      Dealer    Automatic      0  \n",
       "67      Dealer       Manual      0  \n",
       "68      Dealer       Manual      0  \n",
       "69      Dealer       Manual      0  \n",
       "70      Dealer       Manual      0  \n",
       "71      Dealer       Manual      0  \n",
       "72      Dealer       Manual      0  \n",
       "73      Dealer       Manual      0  \n",
       "74      Dealer       Manual      0  \n",
       "75      Dealer       Manual      0  \n",
       "76      Dealer       Manual      0  \n",
       "77      Dealer    Automatic      0  \n",
       "78      Dealer    Automatic      0  \n",
       "79      Dealer    Automatic      0  \n",
       "80      Dealer       Manual      0  \n",
       "81      Dealer       Manual      0  \n",
       "82      Dealer    Automatic      0  \n",
       "83      Dealer       Manual      0  \n",
       "84      Dealer       Manual      0  \n",
       "85  Individual    Automatic      3  \n",
       "86      Dealer       Manual      0  \n",
       "87      Dealer       Manual      0  \n",
       "88      Dealer       Manual      0  \n",
       "89      Dealer       Manual      0  \n",
       "90      Dealer       Manual      0  \n",
       "91      Dealer       Manual      0  \n",
       "92      Dealer       Manual      0  \n",
       "93      Dealer    Automatic      0  \n",
       "94      Dealer    Automatic      0  \n",
       "95      Dealer       Manual      0  \n",
       "96      Dealer    Automatic      0  \n",
       "97      Dealer       Manual      0  \n",
       "98      Dealer       Manual      0  \n",
       "99      Dealer       Manual      0  "
      ]
     },
     "execution_count": 5,
     "metadata": {},
     "output_type": "execute_result"
    }
   ],
   "source": [
    "car_dataset.head(100) # inspecting the first 5 rows of the dataframe"
   ]
  },
  {
   "cell_type": "code",
   "execution_count": 5,
   "id": "bcbc9400",
   "metadata": {
    "execution": {
     "iopub.execute_input": "2021-10-24T05:06:40.224570Z",
     "iopub.status.busy": "2021-10-24T05:06:40.223918Z",
     "iopub.status.idle": "2021-10-24T05:06:40.228574Z",
     "shell.execute_reply": "2021-10-24T05:06:40.229157Z",
     "shell.execute_reply.started": "2021-10-24T05:05:52.264735Z"
    },
    "id": "rpNJj7TN0s0F",
    "outputId": "f3361b51-b884-4c31-bcbd-9d39c634e009",
    "papermill": {
     "duration": 0.039142,
     "end_time": "2021-10-24T05:06:40.229322",
     "exception": false,
     "start_time": "2021-10-24T05:06:40.190180",
     "status": "completed"
    },
    "tags": []
   },
   "outputs": [
    {
     "data": {
      "text/plain": [
       "(301, 9)"
      ]
     },
     "execution_count": 5,
     "metadata": {},
     "output_type": "execute_result"
    }
   ],
   "source": [
    "car_dataset.shape # checking the number of rows and columns"
   ]
  },
  {
   "cell_type": "code",
   "execution_count": 6,
   "id": "49c74acb",
   "metadata": {
    "execution": {
     "iopub.execute_input": "2021-10-24T05:06:40.298221Z",
     "iopub.status.busy": "2021-10-24T05:06:40.297487Z",
     "iopub.status.idle": "2021-10-24T05:06:40.319680Z",
     "shell.execute_reply": "2021-10-24T05:06:40.320246Z",
     "shell.execute_reply.started": "2021-10-24T05:05:52.272855Z"
    },
    "id": "uxeZ9Px708Ek",
    "outputId": "db731301-abb2-4e87-d66f-13244bb8907d",
    "papermill": {
     "duration": 0.059969,
     "end_time": "2021-10-24T05:06:40.320424",
     "exception": false,
     "start_time": "2021-10-24T05:06:40.260455",
     "status": "completed"
    },
    "tags": []
   },
   "outputs": [
    {
     "name": "stdout",
     "output_type": "stream",
     "text": [
      "<class 'pandas.core.frame.DataFrame'>\n",
      "RangeIndex: 301 entries, 0 to 300\n",
      "Data columns (total 9 columns):\n",
      " #   Column         Non-Null Count  Dtype  \n",
      "---  ------         --------------  -----  \n",
      " 0   Car_Name       301 non-null    object \n",
      " 1   Year           301 non-null    int64  \n",
      " 2   Selling_Price  301 non-null    float64\n",
      " 3   Present_Price  301 non-null    float64\n",
      " 4   Kms_Driven     301 non-null    int64  \n",
      " 5   Fuel_Type      301 non-null    object \n",
      " 6   Seller_Type    301 non-null    object \n",
      " 7   Transmission   301 non-null    object \n",
      " 8   Owner          301 non-null    int64  \n",
      "dtypes: float64(2), int64(3), object(4)\n",
      "memory usage: 21.3+ KB\n"
     ]
    }
   ],
   "source": [
    "car_dataset.info() # getting some information about the dataset"
   ]
  },
  {
   "cell_type": "code",
   "execution_count": 7,
   "id": "3076d86f",
   "metadata": {},
   "outputs": [
    {
     "data": {
      "image/png": "[encoded data removed]",
      "text/plain": [
       "<Figure size 432x288 with 2 Axes>"
      ]
     },
     "metadata": {
      "needs_background": "light"
     },
     "output_type": "display_data"
    }
   ],
   "source": [
    "sns.heatmap(car_dataset.corr(),annot=True)\n",
    "plt.show()"
   ]
  },
  {
   "cell_type": "code",
   "execution_count": 8,
   "id": "30d1f93f",
   "metadata": {},
   "outputs": [
    {
     "name": "stderr",
     "output_type": "stream",
     "text": [
      "D:\\python\\lib\\site-packages\\seaborn\\_decorators.py:36: FutureWarning: Pass the following variable as a keyword arg: x. From version 0.12, the only valid positional argument will be `data`, and passing other arguments without an explicit keyword will result in an error or misinterpretation.\n",
      "  warnings.warn(\n"
     ]
    },
    {
     "data": {
      "image/png": "[encoded data removed]",
      "text/plain": [
       "<Figure size 432x288 with 1 Axes>"
      ]
     },
     "metadata": {
      "needs_background": "light"
     },
     "output_type": "display_data"
    }
   ],
   "source": [
    "sns.boxplot(car_dataset['Selling_Price'])\n",
    "plt.show()"
   ]
  },
  {
   "cell_type": "code",
   "execution_count": 9,
   "id": "3ba2e6ef",
   "metadata": {},
   "outputs": [
    {
     "name": "stderr",
     "output_type": "stream",
     "text": [
      "D:\\python\\lib\\site-packages\\seaborn\\_decorators.py:36: FutureWarning: Pass the following variable as a keyword arg: x. From version 0.12, the only valid positional argument will be `data`, and passing other arguments without an explicit keyword will result in an error or misinterpretation.\n",
      "  warnings.warn(\n",
      "D:\\python\\lib\\site-packages\\seaborn\\_decorators.py:36: FutureWarning: Pass the following variable as a keyword arg: x. From version 0.12, the only valid positional argument will be `data`, and passing other arguments without an explicit keyword will result in an error or misinterpretation.\n",
      "  warnings.warn(\n",
      "D:\\python\\lib\\site-packages\\seaborn\\_decorators.py:36: FutureWarning: Pass the following variable as a keyword arg: x. From version 0.12, the only valid positional argument will be `data`, and passing other arguments without an explicit keyword will result in an error or misinterpretation.\n",
      "  warnings.warn(\n"
     ]
    },
    {
     "data": {
      "image/png": "[encoded data removed]",
      "text/plain": [
       "<Figure size 360x360 with 3 Axes>"
      ]
     },
     "metadata": {
      "needs_background": "light"
     },
     "output_type": "display_data"
    }
   ],
   "source": [
    "fig, axs = plt.subplots(3, figsize = (5,5))\n",
    "plt1 = sns.boxplot(car_dataset['Selling_Price'], ax = axs[0])\n",
    "plt2 = sns.boxplot(car_dataset['Present_Price'], ax = axs[1])\n",
    "plt3 = sns.boxplot(car_dataset['Kms_Driven'], ax = axs[2])\n",
    "plt.tight_layout()"
   ]
  },
  {
   "cell_type": "code",
   "execution_count": 10,
   "id": "e6db27c0",
   "metadata": {},
   "outputs": [
    {
     "data": {
      "image/png": "[encoded data removed]",
      "text/plain": [
       "<Figure size 288x288 with 1 Axes>"
      ]
     },
     "metadata": {
      "needs_background": "light"
     },
     "output_type": "display_data"
    }
   ],
   "source": [
    "sns.pairplot(car_dataset, x_vars=[ 'Selling_Price'], y_vars='Present_Price', height=4, aspect=1, kind='scatter')\n",
    "plt.show()"
   ]
  },
  {
   "cell_type": "code",
   "execution_count": 11,
   "id": "f7f8a639",
   "metadata": {},
   "outputs": [
    {
     "data": {
      "image/png": "[encoded data removed]",
      "text/plain": [
       "<Figure size 288x288 with 1 Axes>"
      ]
     },
     "metadata": {
      "needs_background": "light"
     },
     "output_type": "display_data"
    }
   ],
   "source": [
    "sns.pairplot(car_dataset, x_vars=[ 'Present_Price'], y_vars='Selling_Price', height=4, aspect=1, kind='scatter')\n",
    "plt.show()"
   ]
  },
  {
   "cell_type": "code",
   "execution_count": 12,
   "id": "750cbf45",
   "metadata": {},
   "outputs": [
    {
     "data": {
      "image/png": "[encoded data removed]",
      "text/plain": [
       "<Figure size 432x288 with 4 Axes>"
      ]
     },
     "metadata": {
      "needs_background": "light"
     },
     "output_type": "display_data"
    }
   ],
   "source": [
    "car_dataset[['Selling_Price','Present_Price','Kms_Driven']].hist()\n",
    "plt.show()"
   ]
  },
  {
   "cell_type": "code",
   "execution_count": 13,
   "id": "144646b6",
   "metadata": {
    "execution": {
     "iopub.execute_input": "2021-10-24T05:06:40.388857Z",
     "iopub.status.busy": "2021-10-24T05:06:40.388207Z",
     "iopub.status.idle": "2021-10-24T05:06:40.395860Z",
     "shell.execute_reply": "2021-10-24T05:06:40.395284Z",
     "shell.execute_reply.started": "2021-10-24T05:05:52.306030Z"
    },
    "id": "wZSbDnmM1O_V",
    "outputId": "d293b4b9-65a6-4b00-bbce-8f7a179c4c2b",
    "papermill": {
     "duration": 0.043701,
     "end_time": "2021-10-24T05:06:40.395994",
     "exception": false,
     "start_time": "2021-10-24T05:06:40.352293",
     "status": "completed"
    },
    "tags": []
   },
   "outputs": [
    {
     "data": {
      "text/plain": [
       "Car_Name         0\n",
       "Year             0\n",
       "Selling_Price    0\n",
       "Present_Price    0\n",
       "Kms_Driven       0\n",
       "Fuel_Type        0\n",
       "Seller_Type      0\n",
       "Transmission     0\n",
       "Owner            0\n",
       "dtype: int64"
      ]
     },
     "execution_count": 13,
     "metadata": {},
     "output_type": "execute_result"
    }
   ],
   "source": [
    "car_dataset.isnull().sum() # checking the number of missing values"
   ]
  },
  {
   "cell_type": "code",
   "execution_count": 14,
   "id": "4922d7ff",
   "metadata": {
    "execution": {
     "iopub.execute_input": "2021-10-24T05:06:40.468327Z",
     "iopub.status.busy": "2021-10-24T05:06:40.467690Z",
     "iopub.status.idle": "2021-10-24T05:06:40.470092Z",
     "shell.execute_reply": "2021-10-24T05:06:40.470581Z",
     "shell.execute_reply.started": "2021-10-24T05:05:52.316185Z"
    },
    "id": "jKeM03IO1kSz",
    "outputId": "f5628c3c-af33-409e-df39-2a630c0cefa3",
    "papermill": {
     "duration": 0.042895,
     "end_time": "2021-10-24T05:06:40.470748",
     "exception": false,
     "start_time": "2021-10-24T05:06:40.427853",
     "status": "completed"
    },
    "tags": []
   },
   "outputs": [
    {
     "name": "stdout",
     "output_type": "stream",
     "text": [
      "Petrol    239\n",
      "Diesel     60\n",
      "CNG         2\n",
      "Name: Fuel_Type, dtype: int64\n",
      "Dealer        195\n",
      "Individual    106\n",
      "Name: Seller_Type, dtype: int64\n",
      "Manual       261\n",
      "Automatic     40\n",
      "Name: Transmission, dtype: int64\n",
      "0    290\n",
      "1     10\n",
      "3      1\n",
      "Name: Owner, dtype: int64\n"
     ]
    }
   ],
   "source": [
    "# checking the distribution of categorical data\n",
    "print(car_dataset.Fuel_Type.value_counts())\n",
    "print(car_dataset.Seller_Type.value_counts())\n",
    "print(car_dataset.Transmission.value_counts())\n",
    "print(car_dataset.Owner.value_counts())"
   ]
  },
  {
   "cell_type": "markdown",
   "id": "50f46635",
   "metadata": {
    "id": "VxzeLJqT2k1t",
    "papermill": {
     "duration": 0.031764,
     "end_time": "2021-10-24T05:06:40.535438",
     "exception": false,
     "start_time": "2021-10-24T05:06:40.503674",
     "status": "completed"
    },
    "tags": []
   },
   "source": [
    "**Encoding**"
   ]
  },
  {
   "cell_type": "code",
   "execution_count": 15,
   "id": "17ded873",
   "metadata": {
    "execution": {
     "iopub.execute_input": "2021-10-24T05:06:40.611490Z",
     "iopub.status.busy": "2021-10-24T05:06:40.608093Z",
     "iopub.status.idle": "2021-10-24T05:06:40.613792Z",
     "shell.execute_reply": "2021-10-24T05:06:40.614396Z",
     "shell.execute_reply.started": "2021-10-24T05:05:52.335700Z"
    },
    "id": "fNbLsAdU2LAA",
    "papermill": {
     "duration": 0.046453,
     "end_time": "2021-10-24T05:06:40.614580",
     "exception": false,
     "start_time": "2021-10-24T05:06:40.568127",
     "status": "completed"
    },
    "tags": []
   },
   "outputs": [],
   "source": [
    "# encoding \"Fuel_Type\" Column\n",
    "car_dataset.replace({'Fuel_Type':{'Petrol':0,'Diesel':1,'CNG':2}},inplace=True)\n",
    "\n",
    "# encoding \"Seller_Type\" Column\n",
    "car_dataset.replace({'Seller_Type':{'Dealer':0,'Individual':1}},inplace=True)\n",
    "\n",
    "# encoding \"Transmission\" Column\n",
    "car_dataset.replace({'Transmission':{'Manual':0,'Automatic':1}},inplace=True)"
   ]
  },
  {
   "cell_type": "code",
   "execution_count": 16,
   "id": "b1f26656",
   "metadata": {
    "execution": {
     "iopub.execute_input": "2021-10-24T05:06:40.682193Z",
     "iopub.status.busy": "2021-10-24T05:06:40.681590Z",
     "iopub.status.idle": "2021-10-24T05:06:40.693389Z",
     "shell.execute_reply": "2021-10-24T05:06:40.693945Z",
     "shell.execute_reply.started": "2021-10-24T05:05:52.351113Z"
    },
    "id": "dR-puwbW3UZc",
    "outputId": "9afef6be-c4ec-4bca-cfa9-2e1c7851b1e9",
    "papermill": {
     "duration": 0.047267,
     "end_time": "2021-10-24T05:06:40.694121",
     "exception": false,
     "start_time": "2021-10-24T05:06:40.646854",
     "status": "completed"
    },
    "tags": []
   },
   "outputs": [
    {
     "data": {
      "text/html": [
       "<div>\n",
       "<style scoped>\n",
       "    .dataframe tbody tr th:only-of-type {\n",
       "        vertical-align: middle;\n",
       "    }\n",
       "\n",
       "    .dataframe tbody tr th {\n",
       "        vertical-align: top;\n",
       "    }\n",
       "\n",
       "    .dataframe thead th {\n",
       "        text-align: right;\n",
       "    }\n",
       "</style>\n",
       "<table border=\"1\" class=\"dataframe\">\n",
       "  <thead>\n",
       "    <tr style=\"text-align: right;\">\n",
       "      <th></th>\n",
       "      <th>Car_Name</th>\n",
       "      <th>Year</th>\n",
       "      <th>Selling_Price</th>\n",
       "      <th>Present_Price</th>\n",
       "      <th>Kms_Driven</th>\n",
       "      <th>Fuel_Type</th>\n",
       "      <th>Seller_Type</th>\n",
       "      <th>Transmission</th>\n",
       "      <th>Owner</th>\n",
       "    </tr>\n",
       "  </thead>\n",
       "  <tbody>\n",
       "    <tr>\n",
       "      <th>0</th>\n",
       "      <td>ritz</td>\n",
       "      <td>2014</td>\n",
       "      <td>3.35</td>\n",
       "      <td>5.59</td>\n",
       "      <td>27000</td>\n",
       "      <td>0</td>\n",
       "      <td>0</td>\n",
       "      <td>0</td>\n",
       "      <td>0</td>\n",
       "    </tr>\n",
       "    <tr>\n",
       "      <th>1</th>\n",
       "      <td>sx4</td>\n",
       "      <td>2013</td>\n",
       "      <td>4.75</td>\n",
       "      <td>9.54</td>\n",
       "      <td>43000</td>\n",
       "      <td>1</td>\n",
       "      <td>0</td>\n",
       "      <td>0</td>\n",
       "      <td>0</td>\n",
       "    </tr>\n",
       "    <tr>\n",
       "      <th>2</th>\n",
       "      <td>ciaz</td>\n",
       "      <td>2017</td>\n",
       "      <td>7.25</td>\n",
       "      <td>9.85</td>\n",
       "      <td>6900</td>\n",
       "      <td>0</td>\n",
       "      <td>0</td>\n",
       "      <td>0</td>\n",
       "      <td>0</td>\n",
       "    </tr>\n",
       "    <tr>\n",
       "      <th>3</th>\n",
       "      <td>wagon r</td>\n",
       "      <td>2011</td>\n",
       "      <td>2.85</td>\n",
       "      <td>4.15</td>\n",
       "      <td>5200</td>\n",
       "      <td>0</td>\n",
       "      <td>0</td>\n",
       "      <td>0</td>\n",
       "      <td>0</td>\n",
       "    </tr>\n",
       "    <tr>\n",
       "      <th>4</th>\n",
       "      <td>swift</td>\n",
       "      <td>2014</td>\n",
       "      <td>4.60</td>\n",
       "      <td>6.87</td>\n",
       "      <td>42450</td>\n",
       "      <td>1</td>\n",
       "      <td>0</td>\n",
       "      <td>0</td>\n",
       "      <td>0</td>\n",
       "    </tr>\n",
       "    <tr>\n",
       "      <th>...</th>\n",
       "      <td>...</td>\n",
       "      <td>...</td>\n",
       "      <td>...</td>\n",
       "      <td>...</td>\n",
       "      <td>...</td>\n",
       "      <td>...</td>\n",
       "      <td>...</td>\n",
       "      <td>...</td>\n",
       "      <td>...</td>\n",
       "    </tr>\n",
       "    <tr>\n",
       "      <th>296</th>\n",
       "      <td>city</td>\n",
       "      <td>2016</td>\n",
       "      <td>9.50</td>\n",
       "      <td>11.60</td>\n",
       "      <td>33988</td>\n",
       "      <td>1</td>\n",
       "      <td>0</td>\n",
       "      <td>0</td>\n",
       "      <td>0</td>\n",
       "    </tr>\n",
       "    <tr>\n",
       "      <th>297</th>\n",
       "      <td>brio</td>\n",
       "      <td>2015</td>\n",
       "      <td>4.00</td>\n",
       "      <td>5.90</td>\n",
       "      <td>60000</td>\n",
       "      <td>0</td>\n",
       "      <td>0</td>\n",
       "      <td>0</td>\n",
       "      <td>0</td>\n",
       "    </tr>\n",
       "    <tr>\n",
       "      <th>298</th>\n",
       "      <td>city</td>\n",
       "      <td>2009</td>\n",
       "      <td>3.35</td>\n",
       "      <td>11.00</td>\n",
       "      <td>87934</td>\n",
       "      <td>0</td>\n",
       "      <td>0</td>\n",
       "      <td>0</td>\n",
       "      <td>0</td>\n",
       "    </tr>\n",
       "    <tr>\n",
       "      <th>299</th>\n",
       "      <td>city</td>\n",
       "      <td>2017</td>\n",
       "      <td>11.50</td>\n",
       "      <td>12.50</td>\n",
       "      <td>9000</td>\n",
       "      <td>1</td>\n",
       "      <td>0</td>\n",
       "      <td>0</td>\n",
       "      <td>0</td>\n",
       "    </tr>\n",
       "    <tr>\n",
       "      <th>300</th>\n",
       "      <td>brio</td>\n",
       "      <td>2016</td>\n",
       "      <td>5.30</td>\n",
       "      <td>5.90</td>\n",
       "      <td>5464</td>\n",
       "      <td>0</td>\n",
       "      <td>0</td>\n",
       "      <td>0</td>\n",
       "      <td>0</td>\n",
       "    </tr>\n",
       "  </tbody>\n",
       "</table>\n",
       "<p>301 rows × 9 columns</p>\n",
       "</div>"
      ],
      "text/plain": [
       "    Car_Name  Year  Selling_Price  Present_Price  Kms_Driven  Fuel_Type  \\\n",
       "0       ritz  2014           3.35           5.59       27000          0   \n",
       "1        sx4  2013           4.75           9.54       43000          1   \n",
       "2       ciaz  2017           7.25           9.85        6900          0   \n",
       "3    wagon r  2011           2.85           4.15        5200          0   \n",
       "4      swift  2014           4.60           6.87       42450          1   \n",
       "..       ...   ...            ...            ...         ...        ...   \n",
       "296     city  2016           9.50          11.60       33988          1   \n",
       "297     brio  2015           4.00           5.90       60000          0   \n",
       "298     city  2009           3.35          11.00       87934          0   \n",
       "299     city  2017          11.50          12.50        9000          1   \n",
       "300     brio  2016           5.30           5.90        5464          0   \n",
       "\n",
       "     Seller_Type  Transmission  Owner  \n",
       "0              0             0      0  \n",
       "1              0             0      0  \n",
       "2              0             0      0  \n",
       "3              0             0      0  \n",
       "4              0             0      0  \n",
       "..           ...           ...    ...  \n",
       "296            0             0      0  \n",
       "297            0             0      0  \n",
       "298            0             0      0  \n",
       "299            0             0      0  \n",
       "300            0             0      0  \n",
       "\n",
       "[301 rows x 9 columns]"
      ]
     },
     "execution_count": 16,
     "metadata": {},
     "output_type": "execute_result"
    }
   ],
   "source": [
    "car_dataset"
   ]
  },
  {
   "cell_type": "code",
   "execution_count": 17,
   "id": "54640ce0",
   "metadata": {},
   "outputs": [
    {
     "data": {
      "image/png": "[encoded data removed]",
      "text/plain": [
       "<Figure size 432x288 with 1 Axes>"
      ]
     },
     "metadata": {
      "needs_background": "light"
     },
     "output_type": "display_data"
    }
   ],
   "source": [
    "car_dataset.Fuel_Type.value_counts().plot(kind='bar')\n",
    "\n",
    "plt.ylabel('Frequency')\n",
    "plt.xlabel('Fuel_Type')\n",
    "\n",
    "plt.title('Fuel_Type Distribution')\n",
    "\n",
    "plt.show()"
   ]
  },
  {
   "cell_type": "code",
   "execution_count": 18,
   "id": "b3ca92eb",
   "metadata": {},
   "outputs": [
    {
     "data": {
      "image/png": "[encoded data removed]",
      "text/plain": [
       "<Figure size 432x288 with 1 Axes>"
      ]
     },
     "metadata": {
      "needs_background": "light"
     },
     "output_type": "display_data"
    }
   ],
   "source": [
    "car_dataset.Transmission.value_counts().plot(kind='bar')\n",
    "\n",
    "plt.ylabel('Frequency')\n",
    "plt.xlabel('Transmission')\n",
    "\n",
    "plt.title('Transmission Distribution')\n",
    "\n",
    "plt.show()"
   ]
  },
  {
   "cell_type": "code",
   "execution_count": 19,
   "id": "d23c9edf",
   "metadata": {},
   "outputs": [
    {
     "data": {
      "image/png": "[encoded data removed]",
      "text/plain": [
       "<Figure size 432x288 with 1 Axes>"
      ]
     },
     "metadata": {
      "needs_background": "light"
     },
     "output_type": "display_data"
    }
   ],
   "source": [
    "car_dataset.Owner.value_counts().plot(kind='bar')\n",
    "\n",
    "plt.ylabel('Frequency')\n",
    "plt.xlabel('Owner')\n",
    "\n",
    "plt.title('Owner Distribution')\n",
    "\n",
    "plt.show()"
   ]
  },
  {
   "cell_type": "code",
   "execution_count": 20,
   "id": "5ab24a0f",
   "metadata": {},
   "outputs": [
    {
     "data": {
      "image/png": "[encoded data removed]",
      "text/plain": [
       "<Figure size 432x288 with 1 Axes>"
      ]
     },
     "metadata": {
      "needs_background": "light"
     },
     "output_type": "display_data"
    }
   ],
   "source": [
    "car_dataset.Seller_Type.value_counts().plot(kind='bar')\n",
    "\n",
    "plt.ylabel('Frequency')\n",
    "plt.xlabel('Seller_Type')\n",
    "\n",
    "plt.title('Seller_Type Distribution')\n",
    "\n",
    "plt.show()"
   ]
  },
  {
   "cell_type": "markdown",
   "id": "c8fde4be",
   "metadata": {
    "id": "d2AVNy1h3kni",
    "papermill": {
     "duration": 0.0336,
     "end_time": "2021-10-24T05:06:40.760610",
     "exception": false,
     "start_time": "2021-10-24T05:06:40.727010",
     "status": "completed"
    },
    "tags": []
   },
   "source": [
    "Splitting the data and Target"
   ]
  },
  {
   "cell_type": "code",
   "execution_count": 21,
   "id": "abdb076a",
   "metadata": {
    "execution": {
     "iopub.execute_input": "2021-10-24T05:06:40.832669Z",
     "iopub.status.busy": "2021-10-24T05:06:40.831991Z",
     "iopub.status.idle": "2021-10-24T05:06:40.838405Z",
     "shell.execute_reply": "2021-10-24T05:06:40.838998Z",
     "shell.execute_reply.started": "2021-10-24T05:05:52.372145Z"
    },
    "id": "XHdzrIlV3baN",
    "papermill": {
     "duration": 0.042923,
     "end_time": "2021-10-24T05:06:40.839173",
     "exception": false,
     "start_time": "2021-10-24T05:06:40.796250",
     "status": "completed"
    },
    "tags": []
   },
   "outputs": [],
   "source": [
    "X = car_dataset.drop(['Car_Name','Selling_Price'],axis=1)\n",
    "Y = car_dataset['Selling_Price']"
   ]
  },
  {
   "cell_type": "code",
   "execution_count": 22,
   "id": "82c4186f",
   "metadata": {
    "execution": {
     "iopub.execute_input": "2021-10-24T05:06:40.909473Z",
     "iopub.status.busy": "2021-10-24T05:06:40.908876Z",
     "iopub.status.idle": "2021-10-24T05:06:40.918758Z",
     "shell.execute_reply": "2021-10-24T05:06:40.919271Z",
     "shell.execute_reply.started": "2021-10-24T05:05:52.381969Z"
    },
    "id": "vJKZIXOI4ISG",
    "outputId": "08c369c1-54f8-40c6-8214-708e0df97920",
    "papermill": {
     "duration": 0.046374,
     "end_time": "2021-10-24T05:06:40.919489",
     "exception": false,
     "start_time": "2021-10-24T05:06:40.873115",
     "status": "completed"
    },
    "tags": []
   },
   "outputs": [
    {
     "name": "stdout",
     "output_type": "stream",
     "text": [
      "     Year  Present_Price  Kms_Driven  Fuel_Type  Seller_Type  Transmission  \\\n",
      "0    2014           5.59       27000          0            0             0   \n",
      "1    2013           9.54       43000          1            0             0   \n",
      "2    2017           9.85        6900          0            0             0   \n",
      "3    2011           4.15        5200          0            0             0   \n",
      "4    2014           6.87       42450          1            0             0   \n",
      "..    ...            ...         ...        ...          ...           ...   \n",
      "296  2016          11.60       33988          1            0             0   \n",
      "297  2015           5.90       60000          0            0             0   \n",
      "298  2009          11.00       87934          0            0             0   \n",
      "299  2017          12.50        9000          1            0             0   \n",
      "300  2016           5.90        5464          0            0             0   \n",
      "\n",
      "     Owner  \n",
      "0        0  \n",
      "1        0  \n",
      "2        0  \n",
      "3        0  \n",
      "4        0  \n",
      "..     ...  \n",
      "296      0  \n",
      "297      0  \n",
      "298      0  \n",
      "299      0  \n",
      "300      0  \n",
      "\n",
      "[301 rows x 7 columns]\n"
     ]
    }
   ],
   "source": [
    "print(X)"
   ]
  },
  {
   "cell_type": "code",
   "execution_count": 23,
   "id": "25466aeb",
   "metadata": {
    "execution": {
     "iopub.execute_input": "2021-10-24T05:06:40.990037Z",
     "iopub.status.busy": "2021-10-24T05:06:40.989313Z",
     "iopub.status.idle": "2021-10-24T05:06:40.995278Z",
     "shell.execute_reply": "2021-10-24T05:06:40.995884Z",
     "shell.execute_reply.started": "2021-10-24T05:05:52.401728Z"
    },
    "id": "U5LIqrS54N9W",
    "outputId": "838ca4a1-9feb-4905-c89c-73102d655586",
    "papermill": {
     "duration": 0.042876,
     "end_time": "2021-10-24T05:06:40.996061",
     "exception": false,
     "start_time": "2021-10-24T05:06:40.953185",
     "status": "completed"
    },
    "tags": []
   },
   "outputs": [
    {
     "name": "stdout",
     "output_type": "stream",
     "text": [
      "0       3.35\n",
      "1       4.75\n",
      "2       7.25\n",
      "3       2.85\n",
      "4       4.60\n",
      "       ...  \n",
      "296     9.50\n",
      "297     4.00\n",
      "298     3.35\n",
      "299    11.50\n",
      "300     5.30\n",
      "Name: Selling_Price, Length: 301, dtype: float64\n"
     ]
    }
   ],
   "source": [
    "print(Y)"
   ]
  },
  {
   "cell_type": "markdown",
   "id": "9cbbe4d4",
   "metadata": {
    "id": "w62e_VA84ZIS",
    "papermill": {
     "duration": 0.033886,
     "end_time": "2021-10-24T05:06:41.064595",
     "exception": false,
     "start_time": "2021-10-24T05:06:41.030709",
     "status": "completed"
    },
    "tags": []
   },
   "source": [
    "Splitting Training and Test data"
   ]
  },
  {
   "cell_type": "code",
   "execution_count": 24,
   "id": "7ffefee5",
   "metadata": {
    "execution": {
     "iopub.execute_input": "2021-10-24T05:06:41.135091Z",
     "iopub.status.busy": "2021-10-24T05:06:41.134481Z",
     "iopub.status.idle": "2021-10-24T05:06:41.141776Z",
     "shell.execute_reply": "2021-10-24T05:06:41.142311Z",
     "shell.execute_reply.started": "2021-10-24T05:05:52.411453Z"
    },
    "id": "p2cYl_Nw4SQ3",
    "papermill": {
     "duration": 0.04433,
     "end_time": "2021-10-24T05:06:41.142491",
     "exception": false,
     "start_time": "2021-10-24T05:06:41.098161",
     "status": "completed"
    },
    "tags": []
   },
   "outputs": [],
   "source": [
    "X_train, X_test, Y_train, Y_test = train_test_split(X, Y, test_size = 0.1, random_state=2)"
   ]
  },
  {
   "cell_type": "markdown",
   "id": "564f40e8",
   "metadata": {
    "id": "ocyzVLOc5K6D",
    "papermill": {
     "duration": 0.033487,
     "end_time": "2021-10-24T05:06:41.209755",
     "exception": false,
     "start_time": "2021-10-24T05:06:41.176268",
     "status": "completed"
    },
    "tags": []
   },
   "source": [
    "**Model** **Training**"
   ]
  },
  {
   "cell_type": "markdown",
   "id": "ae7e4097",
   "metadata": {
    "id": "CTzEpu6F5M5A",
    "papermill": {
     "duration": 0.03323,
     "end_time": "2021-10-24T05:06:41.276484",
     "exception": false,
     "start_time": "2021-10-24T05:06:41.243254",
     "status": "completed"
    },
    "tags": []
   },
   "source": [
    "1. Linear Regression"
   ]
  },
  {
   "cell_type": "code",
   "execution_count": 25,
   "id": "3648937f",
   "metadata": {
    "execution": {
     "iopub.execute_input": "2021-10-24T05:06:41.346757Z",
     "iopub.status.busy": "2021-10-24T05:06:41.346070Z",
     "iopub.status.idle": "2021-10-24T05:06:41.349127Z",
     "shell.execute_reply": "2021-10-24T05:06:41.349632Z",
     "shell.execute_reply.started": "2021-10-24T05:05:52.428072Z"
    },
    "id": "iLqTMiKd5IWH",
    "papermill": {
     "duration": 0.039816,
     "end_time": "2021-10-24T05:06:41.349800",
     "exception": false,
     "start_time": "2021-10-24T05:06:41.309984",
     "status": "completed"
    },
    "tags": []
   },
   "outputs": [],
   "source": [
    "lr = LinearRegression() # loading the linear regression model"
   ]
  },
  {
   "cell_type": "code",
   "execution_count": 26,
   "id": "7a6ffdc1",
   "metadata": {
    "execution": {
     "iopub.execute_input": "2021-10-24T05:06:41.420550Z",
     "iopub.status.busy": "2021-10-24T05:06:41.419902Z",
     "iopub.status.idle": "2021-10-24T05:06:41.441656Z",
     "shell.execute_reply": "2021-10-24T05:06:41.441011Z",
     "shell.execute_reply.started": "2021-10-24T05:05:52.440545Z"
    },
    "id": "UWUCK59R5Z4X",
    "outputId": "c2172f9f-a673-40a3-c2f1-7f882d99b32d",
    "papermill": {
     "duration": 0.058029,
     "end_time": "2021-10-24T05:06:41.441800",
     "exception": false,
     "start_time": "2021-10-24T05:06:41.383771",
     "status": "completed"
    },
    "tags": []
   },
   "outputs": [
    {
     "data": {
      "text/plain": [
       "LinearRegression()"
      ]
     },
     "execution_count": 26,
     "metadata": {},
     "output_type": "execute_result"
    }
   ],
   "source": [
    "lr.fit(X_train,Y_train)"
   ]
  },
  {
   "cell_type": "markdown",
   "id": "8a5c3140",
   "metadata": {
    "id": "XB7PuuTM5nu_",
    "papermill": {
     "duration": 0.033831,
     "end_time": "2021-10-24T05:06:41.509592",
     "exception": false,
     "start_time": "2021-10-24T05:06:41.475761",
     "status": "completed"
    },
    "tags": []
   },
   "source": [
    "Model Evaluation"
   ]
  },
  {
   "cell_type": "code",
   "execution_count": 27,
   "id": "5f4e8761",
   "metadata": {
    "execution": {
     "iopub.execute_input": "2021-10-24T05:06:41.580706Z",
     "iopub.status.busy": "2021-10-24T05:06:41.580037Z",
     "iopub.status.idle": "2021-10-24T05:06:41.585857Z",
     "shell.execute_reply": "2021-10-24T05:06:41.586324Z",
     "shell.execute_reply.started": "2021-10-24T05:05:52.475422Z"
    },
    "id": "u8Wu4xMD5iW8",
    "papermill": {
     "duration": 0.042865,
     "end_time": "2021-10-24T05:06:41.586506",
     "exception": false,
     "start_time": "2021-10-24T05:06:41.543641",
     "status": "completed"
    },
    "tags": []
   },
   "outputs": [],
   "source": [
    "training_data_prediction = lr.predict(X_train) # prediction on Training data"
   ]
  },
  {
   "cell_type": "code",
   "execution_count": 28,
   "id": "51020cf1",
   "metadata": {
    "execution": {
     "iopub.execute_input": "2021-10-24T05:06:41.664809Z",
     "iopub.status.busy": "2021-10-24T05:06:41.664115Z",
     "iopub.status.idle": "2021-10-24T05:06:41.670683Z",
     "shell.execute_reply": "2021-10-24T05:06:41.669959Z",
     "shell.execute_reply.started": "2021-10-24T05:05:52.482869Z"
    },
    "id": "JdHP3HWx528E",
    "outputId": "91af64a6-9eac-4326-dcc8-a0fbfc534ede",
    "papermill": {
     "duration": 0.049914,
     "end_time": "2021-10-24T05:06:41.670837",
     "exception": false,
     "start_time": "2021-10-24T05:06:41.620923",
     "status": "completed"
    },
    "tags": []
   },
   "outputs": [
    {
     "name": "stdout",
     "output_type": "stream",
     "text": [
      "R squared error :  0.8799451660493698\n",
      "Mean Absolute Error :  1.2166174093912014\n",
      "Mean squared error :  3.2590308233091223\n",
      "Root Mean squared error :  1.8052785999144625\n"
     ]
    }
   ],
   "source": [
    "# R squared error\n",
    "score_1 = metrics.r2_score(Y_train, training_data_prediction)\n",
    "\n",
    "# Mean Absolute Error\n",
    "score_2 = metrics.mean_absolute_error(Y_train, training_data_prediction)\n",
    "\n",
    "# Mean Squared Error\n",
    "score_3 = metrics.mean_squared_error(Y_train, training_data_prediction)\n",
    "\n",
    "# Root Mean squared Error\n",
    "score_4 = np.sqrt(score_3)\n",
    "\n",
    "print(\"R squared error : \", score_1)\n",
    "print('Mean Absolute Error : ', score_2)\n",
    "print(\"Mean squared error : \", score_3)\n",
    "print('Root Mean squared error : ', score_4)"
   ]
  },
  {
   "cell_type": "markdown",
   "id": "f9f302bd",
   "metadata": {
    "id": "b3RfnkFq6jrH",
    "papermill": {
     "duration": 0.033961,
     "end_time": "2021-10-24T05:06:41.740274",
     "exception": false,
     "start_time": "2021-10-24T05:06:41.706313",
     "status": "completed"
    },
    "tags": []
   },
   "source": [
    "Visualize the actual prices and Predicted prices"
   ]
  },
  {
   "cell_type": "code",
   "execution_count": 29,
   "id": "3f91beee",
   "metadata": {
    "execution": {
     "iopub.execute_input": "2021-10-24T05:06:41.812630Z",
     "iopub.status.busy": "2021-10-24T05:06:41.811999Z",
     "iopub.status.idle": "2021-10-24T05:06:42.055464Z",
     "shell.execute_reply": "2021-10-24T05:06:42.054821Z",
     "shell.execute_reply.started": "2021-10-24T05:05:52.502373Z"
    },
    "id": "5jukF7Vc6P48",
    "outputId": "c81d48dd-ca12-45ab-8c9f-2771155ba438",
    "papermill": {
     "duration": 0.280357,
     "end_time": "2021-10-24T05:06:42.055646",
     "exception": false,
     "start_time": "2021-10-24T05:06:41.775289",
     "status": "completed"
    },
    "tags": []
   },
   "outputs": [
    {
     "data": {
      "image/png": "[encoded data removed]",
      "text/plain": [
       "<Figure size 432x288 with 1 Axes>"
      ]
     },
     "metadata": {
      "needs_background": "light"
     },
     "output_type": "display_data"
    }
   ],
   "source": [
    "plt.scatter(Y_train, training_data_prediction)\n",
    "plt.xlabel(\"Actual Price\")\n",
    "plt.ylabel(\"Predicted Price\")\n",
    "plt.title(\" Actual Prices vs Predicted Prices\")\n",
    "plt.show()"
   ]
  },
  {
   "cell_type": "code",
   "execution_count": 30,
   "id": "32f9b516",
   "metadata": {
    "execution": {
     "iopub.execute_input": "2021-10-24T05:06:42.130262Z",
     "iopub.status.busy": "2021-10-24T05:06:42.129641Z",
     "iopub.status.idle": "2021-10-24T05:06:42.134926Z",
     "shell.execute_reply": "2021-10-24T05:06:42.135399Z",
     "shell.execute_reply.started": "2021-10-24T05:05:52.790452Z"
    },
    "id": "iJUq-DiM69fn",
    "papermill": {
     "duration": 0.044986,
     "end_time": "2021-10-24T05:06:42.135593",
     "exception": false,
     "start_time": "2021-10-24T05:06:42.090607",
     "status": "completed"
    },
    "tags": []
   },
   "outputs": [],
   "source": [
    "# prediction on Training data\n",
    "test_data_prediction = lr.predict(X_test)"
   ]
  },
  {
   "cell_type": "code",
   "execution_count": 31,
   "id": "adee5412",
   "metadata": {
    "execution": {
     "iopub.execute_input": "2021-10-24T05:06:42.272976Z",
     "iopub.status.busy": "2021-10-24T05:06:42.272269Z",
     "iopub.status.idle": "2021-10-24T05:06:42.277866Z",
     "shell.execute_reply": "2021-10-24T05:06:42.278374Z",
     "shell.execute_reply.started": "2021-10-24T05:05:52.798385Z"
    },
    "id": "e9h4glEM7XJ1",
    "outputId": "43a5b7a8-2663-4083-b68a-914ab9c8a5c4",
    "papermill": {
     "duration": 0.10809,
     "end_time": "2021-10-24T05:06:42.278591",
     "exception": false,
     "start_time": "2021-10-24T05:06:42.170501",
     "status": "completed"
    },
    "tags": []
   },
   "outputs": [
    {
     "name": "stdout",
     "output_type": "stream",
     "text": [
      "R squared error :  0.8365766715026905\n",
      "Mean Absolute Error :  1.1516382156614553\n",
      "Mean squared error :  2.1501299189838208\n",
      "Root Mean squared error :  1.466332131198052\n"
     ]
    }
   ],
   "source": [
    "# R squared error\n",
    "score_1 = metrics.r2_score(Y_test, test_data_prediction)\n",
    "\n",
    "# Mean Absolute Error\n",
    "score_2 = metrics.mean_absolute_error(Y_test, test_data_prediction)\n",
    "\n",
    "# Mean Squared Error\n",
    "score_3 = metrics.mean_squared_error(Y_test, test_data_prediction)\n",
    "\n",
    "# Root Mean squared Error\n",
    "score_4 = np.sqrt(score_3)\n",
    "\n",
    "print(\"R squared error : \", score_1)\n",
    "print('Mean Absolute Error : ', score_2)\n",
    "print(\"Mean squared error : \", score_3)\n",
    "print('Root Mean squared error : ', score_4)"
   ]
  },
  {
   "cell_type": "code",
   "execution_count": 32,
   "id": "cc54051a",
   "metadata": {
    "execution": {
     "iopub.execute_input": "2021-10-24T05:06:42.385884Z",
     "iopub.status.busy": "2021-10-24T05:06:42.353268Z",
     "iopub.status.idle": "2021-10-24T05:06:42.564846Z",
     "shell.execute_reply": "2021-10-24T05:06:42.565307Z",
     "shell.execute_reply.started": "2021-10-24T05:05:52.815729Z"
    },
    "id": "0yP0uxcr7gUE",
    "outputId": "380890e5-6eee-4d9e-ebf9-bed1b757eeb1",
    "papermill": {
     "duration": 0.251373,
     "end_time": "2021-10-24T05:06:42.565483",
     "exception": false,
     "start_time": "2021-10-24T05:06:42.314110",
     "status": "completed"
    },
    "tags": []
   },
   "outputs": [
    {
     "data": {
      "image/png": "[encoded data removed]",
      "text/plain": [
       "<Figure size 432x288 with 1 Axes>"
      ]
     },
     "metadata": {
      "needs_background": "light"
     },
     "output_type": "display_data"
    }
   ],
   "source": [
    "plt.scatter(Y_test, test_data_prediction)\n",
    "plt.xlabel(\"Actual Price\")\n",
    "plt.ylabel(\"Predicted Price\")\n",
    "plt.title(\" Actual Prices vs Predicted Prices\")\n",
    "plt.show()"
   ]
  },
  {
   "cell_type": "code",
   "execution_count": 33,
   "id": "4b883ea4",
   "metadata": {},
   "outputs": [
    {
     "data": {
      "image/png": "[encoded data removed]",
      "text/plain": [
       "<Figure size 432x288 with 1 Axes>"
      ]
     },
     "metadata": {
      "needs_background": "light"
     },
     "output_type": "display_data"
    }
   ],
   "source": [
    "sns.regplot(x=Y_test,y= test_data_prediction,ci=None,color='r');\n",
    "plt.scatter(Y_test, test_data_prediction)\n",
    "plt.xlabel(\"Actual Price\")\n",
    "plt.ylabel(\"Predicted Price\")\n",
    "plt.title(\" Actual Prices vs Predicted Prices\")\n",
    "plt.show()"
   ]
  },
  {
   "cell_type": "markdown",
   "id": "30db4193",
   "metadata": {
    "id": "flNiLHUZ78Mb",
    "papermill": {
     "duration": 0.036197,
     "end_time": "2021-10-24T05:06:42.638044",
     "exception": false,
     "start_time": "2021-10-24T05:06:42.601847",
     "status": "completed"
    },
    "tags": []
   },
   "source": [
    "2. Lasso Regression"
   ]
  },
  {
   "cell_type": "code",
   "execution_count": 34,
   "id": "457f94b8",
   "metadata": {
    "execution": {
     "iopub.execute_input": "2021-10-24T05:06:42.713829Z",
     "iopub.status.busy": "2021-10-24T05:06:42.713194Z",
     "iopub.status.idle": "2021-10-24T05:06:42.716727Z",
     "shell.execute_reply": "2021-10-24T05:06:42.717196Z",
     "shell.execute_reply.started": "2021-10-24T05:05:53.071359Z"
    },
    "id": "govWJZHc8H4J",
    "papermill": {
     "duration": 0.043174,
     "end_time": "2021-10-24T05:06:42.717364",
     "exception": false,
     "start_time": "2021-10-24T05:06:42.674190",
     "status": "completed"
    },
    "tags": []
   },
   "outputs": [],
   "source": [
    "lass_reg_model = Lasso() # loading the linear regression model"
   ]
  },
  {
   "cell_type": "code",
   "execution_count": 35,
   "id": "24f82243",
   "metadata": {
    "execution": {
     "iopub.execute_input": "2021-10-24T05:06:42.793860Z",
     "iopub.status.busy": "2021-10-24T05:06:42.793169Z",
     "iopub.status.idle": "2021-10-24T05:06:42.804420Z",
     "shell.execute_reply": "2021-10-24T05:06:42.803811Z",
     "shell.execute_reply.started": "2021-10-24T05:05:53.077932Z"
    },
    "id": "N0HnZA1x8H4s",
    "outputId": "9e655fc4-d3bf-43b7-da4b-5de008cb7a7c",
    "papermill": {
     "duration": 0.050871,
     "end_time": "2021-10-24T05:06:42.804585",
     "exception": false,
     "start_time": "2021-10-24T05:06:42.753714",
     "status": "completed"
    },
    "tags": []
   },
   "outputs": [
    {
     "data": {
      "text/plain": [
       "Lasso()"
      ]
     },
     "execution_count": 35,
     "metadata": {},
     "output_type": "execute_result"
    }
   ],
   "source": [
    "lass_reg_model.fit(X_train,Y_train)"
   ]
  },
  {
   "cell_type": "markdown",
   "id": "696efdca",
   "metadata": {
    "id": "Lc9Fljj68H46",
    "papermill": {
     "duration": 0.038596,
     "end_time": "2021-10-24T05:06:42.879847",
     "exception": false,
     "start_time": "2021-10-24T05:06:42.841251",
     "status": "completed"
    },
    "tags": []
   },
   "source": [
    "**Model** **Evaluation**"
   ]
  },
  {
   "cell_type": "code",
   "execution_count": 36,
   "id": "a3c5d485",
   "metadata": {
    "execution": {
     "iopub.execute_input": "2021-10-24T05:06:42.956089Z",
     "iopub.status.busy": "2021-10-24T05:06:42.955466Z",
     "iopub.status.idle": "2021-10-24T05:06:42.960636Z",
     "shell.execute_reply": "2021-10-24T05:06:42.961160Z",
     "shell.execute_reply.started": "2021-10-24T05:05:53.100219Z"
    },
    "id": "mkcC344U8H48",
    "papermill": {
     "duration": 0.044689,
     "end_time": "2021-10-24T05:06:42.961325",
     "exception": false,
     "start_time": "2021-10-24T05:06:42.916636",
     "status": "completed"
    },
    "tags": []
   },
   "outputs": [],
   "source": [
    "training_data_prediction = lass_reg_model.predict(X_train) # prediction on Training data"
   ]
  },
  {
   "cell_type": "code",
   "execution_count": 37,
   "id": "400b690f",
   "metadata": {
    "execution": {
     "iopub.execute_input": "2021-10-24T05:06:43.039767Z",
     "iopub.status.busy": "2021-10-24T05:06:43.039061Z",
     "iopub.status.idle": "2021-10-24T05:06:43.047695Z",
     "shell.execute_reply": "2021-10-24T05:06:43.048163Z",
     "shell.execute_reply.started": "2021-10-24T05:05:53.109884Z"
    },
    "id": "D4HRAQMd8H4_",
    "outputId": "c4ac84cb-658c-4b72-a741-ad4b079714a1",
    "papermill": {
     "duration": 0.050573,
     "end_time": "2021-10-24T05:06:43.048338",
     "exception": false,
     "start_time": "2021-10-24T05:06:42.997765",
     "status": "completed"
    },
    "tags": []
   },
   "outputs": [
    {
     "name": "stdout",
     "output_type": "stream",
     "text": [
      "R squared error :  0.8427856123435794\n",
      "Mean Absolute Error :  1.2863097696916528\n",
      "Mean squared error :  4.267770970810244\n",
      "Root Mean squared error :  2.065858410155508\n"
     ]
    }
   ],
   "source": [
    "# R squared error\n",
    "score_1 = metrics.r2_score(Y_train, training_data_prediction)\n",
    "\n",
    "# Mean Absolute Error\n",
    "score_2 = metrics.mean_absolute_error(Y_train, training_data_prediction)\n",
    "\n",
    "# Mean Squared Error\n",
    "score_3 = metrics.mean_squared_error(Y_train, training_data_prediction)\n",
    "\n",
    "# Root Mean squared Error\n",
    "score_4 = np.sqrt(score_3)\n",
    "\n",
    "print(\"R squared error : \", score_1)\n",
    "print('Mean Absolute Error : ', score_2)\n",
    "print(\"Mean squared error : \", score_3)\n",
    "print('Root Mean squared error : ', score_4)"
   ]
  },
  {
   "cell_type": "markdown",
   "id": "4a930ac4",
   "metadata": {
    "id": "kRo68z988H5B",
    "papermill": {
     "duration": 0.036593,
     "end_time": "2021-10-24T05:06:43.122025",
     "exception": false,
     "start_time": "2021-10-24T05:06:43.085432",
     "status": "completed"
    },
    "tags": []
   },
   "source": [
    "Visualize the actual prices and Predicted prices"
   ]
  },
  {
   "cell_type": "code",
   "execution_count": 38,
   "id": "41ef57e5",
   "metadata": {
    "execution": {
     "iopub.execute_input": "2021-10-24T05:06:43.207285Z",
     "iopub.status.busy": "2021-10-24T05:06:43.206634Z",
     "iopub.status.idle": "2021-10-24T05:06:43.403558Z",
     "shell.execute_reply": "2021-10-24T05:06:43.404033Z",
     "shell.execute_reply.started": "2021-10-24T05:05:53.126680Z"
    },
    "id": "kXjzFcgu8H5C",
    "outputId": "dda058a2-5541-4405-924c-70ffc940c988",
    "papermill": {
     "duration": 0.245322,
     "end_time": "2021-10-24T05:06:43.404214",
     "exception": false,
     "start_time": "2021-10-24T05:06:43.158892",
     "status": "completed"
    },
    "tags": []
   },
   "outputs": [
    {
     "data": {
      "image/png": "[encoded data removed]",
      "text/plain": [
       "<Figure size 432x288 with 1 Axes>"
      ]
     },
     "metadata": {
      "needs_background": "light"
     },
     "output_type": "display_data"
    }
   ],
   "source": [
    "plt.scatter(Y_train, training_data_prediction)\n",
    "plt.xlabel(\"Actual Price\")\n",
    "plt.ylabel(\"Predicted Price\")\n",
    "plt.title(\" Actual Prices vs Predicted Prices\")\n",
    "plt.show()"
   ]
  },
  {
   "cell_type": "code",
   "execution_count": 39,
   "id": "c427549d",
   "metadata": {
    "execution": {
     "iopub.execute_input": "2021-10-24T05:06:43.483402Z",
     "iopub.status.busy": "2021-10-24T05:06:43.482781Z",
     "iopub.status.idle": "2021-10-24T05:06:43.488078Z",
     "shell.execute_reply": "2021-10-24T05:06:43.488697Z",
     "shell.execute_reply.started": "2021-10-24T05:05:53.364892Z"
    },
    "id": "pHXUgmyt8H5E",
    "papermill": {
     "duration": 0.046306,
     "end_time": "2021-10-24T05:06:43.488875",
     "exception": false,
     "start_time": "2021-10-24T05:06:43.442569",
     "status": "completed"
    },
    "tags": []
   },
   "outputs": [],
   "source": [
    "test_data_prediction = lass_reg_model.predict(X_test) # prediction on Training data"
   ]
  },
  {
   "cell_type": "code",
   "execution_count": 40,
   "id": "414e74b7",
   "metadata": {
    "execution": {
     "iopub.execute_input": "2021-10-24T05:06:43.567806Z",
     "iopub.status.busy": "2021-10-24T05:06:43.567130Z",
     "iopub.status.idle": "2021-10-24T05:06:43.576448Z",
     "shell.execute_reply": "2021-10-24T05:06:43.575917Z",
     "shell.execute_reply.started": "2021-10-24T05:05:53.374932Z"
    },
    "id": "ctVd_TB48H5E",
    "outputId": "87d7565f-4060-4085-cc31-f165952ca153",
    "papermill": {
     "duration": 0.04995,
     "end_time": "2021-10-24T05:06:43.576627",
     "exception": false,
     "start_time": "2021-10-24T05:06:43.526677",
     "status": "completed"
    },
    "tags": []
   },
   "outputs": [
    {
     "name": "stdout",
     "output_type": "stream",
     "text": [
      "R squared error :  0.8709167941173195\n",
      "Mean Absolute Error :  1.0507413774170433\n",
      "Mean squared error :  1.6983234006965484\n",
      "Root Mean squared error :  1.3031973759552113\n"
     ]
    }
   ],
   "source": [
    "# R squared error\n",
    "score_1 = metrics.r2_score(Y_test, test_data_prediction)\n",
    "\n",
    "# Mean Absolute Error\n",
    "score_2 = metrics.mean_absolute_error(Y_test, test_data_prediction)\n",
    "\n",
    "# Mean Squared Error\n",
    "score_3 = metrics.mean_squared_error(Y_test, test_data_prediction)\n",
    "\n",
    "# Root Mean squared Error\n",
    "score_4 = np.sqrt(score_3)\n",
    "\n",
    "print(\"R squared error : \", score_1)\n",
    "print('Mean Absolute Error : ', score_2)\n",
    "print(\"Mean squared error : \", score_3)\n",
    "print('Root Mean squared error : ', score_4)"
   ]
  },
  {
   "cell_type": "code",
   "execution_count": 41,
   "id": "2aadbb83",
   "metadata": {
    "execution": {
     "iopub.execute_input": "2021-10-24T05:06:43.673200Z",
     "iopub.status.busy": "2021-10-24T05:06:43.671261Z",
     "iopub.status.idle": "2021-10-24T05:06:43.859083Z",
     "shell.execute_reply": "2021-10-24T05:06:43.858359Z",
     "shell.execute_reply.started": "2021-10-24T05:05:53.392251Z"
    },
    "id": "W_iX2Ctv8H5F",
    "outputId": "0fe25c04-27af-4149-8b71-cd0882686eec",
    "papermill": {
     "duration": 0.244623,
     "end_time": "2021-10-24T05:06:43.859230",
     "exception": false,
     "start_time": "2021-10-24T05:06:43.614607",
     "status": "completed"
    },
    "scrolled": true,
    "tags": []
   },
   "outputs": [
    {
     "data": {
      "image/png": "[encoded data removed]",
      "text/plain": [
       "<Figure size 432x288 with 1 Axes>"
      ]
     },
     "metadata": {
      "needs_background": "light"
     },
     "output_type": "display_data"
    }
   ],
   "source": [
    "plt.scatter(Y_test, test_data_prediction)\n",
    "plt.xlabel(\"Actual Price\")\n",
    "plt.ylabel(\"Predicted Price\")\n",
    "plt.title(\" Actual Prices vs Predicted Prices\")\n",
    "plt.show()"
   ]
  },
  {
   "cell_type": "code",
   "execution_count": 42,
   "id": "a0a94624",
   "metadata": {},
   "outputs": [
    {
     "data": {
      "image/png": "[encoded data removed]",
      "text/plain": [
       "<Figure size 432x288 with 1 Axes>"
      ]
     },
     "metadata": {
      "needs_background": "light"
     },
     "output_type": "display_data"
    }
   ],
   "source": [
    "sns.regplot(x=Y_test,y= test_data_prediction,ci=None,color='r');\n",
    "\n",
    "plt.scatter(Y_test, test_data_prediction)\n",
    "plt.xlabel(\"Actual Price\")\n",
    "plt.ylabel(\"Predicted Price\")\n",
    "plt.title(\" Actual Prices vs Predicted Prices\")\n",
    "plt.show()"
   ]
  }
 ],
 "metadata": {
  "kernelspec": {
   "display_name": "Python 3 (ipykernel)",
   "language": "python",
   "name": "python3"
  },
  "language_info": {
   "codemirror_mode": {
    "name": "ipython",
    "version": 3
   },
   "file_extension": ".py",
   "mimetype": "text/x-python",
   "name": "python",
   "nbconvert_exporter": "python",
   "pygments_lexer": "ipython3",
   "version": "3.9.7"
  },
  "papermill": {
   "default_parameters": {},
   "duration": 15.576348,
   "end_time": "2021-10-24T05:06:44.685953",
   "environment_variables": {},
   "exception": null,
   "input_path": "__notebook__.ipynb",
   "output_path": "__notebook__.ipynb",
   "parameters": {},
   "start_time": "2021-10-24T05:06:29.109605",
   "version": "2.3.3"
  }
 },
 "nbformat": 4,
 "nbformat_minor": 5
}
